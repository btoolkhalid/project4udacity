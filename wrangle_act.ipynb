{
 "cells": [
  {
   "cell_type": "markdown",
   "id": "ae0977f2",
   "metadata": {},
   "source": [
    "# Project 4 \"Wrangle Data\"\n",
    "**Unfortunately, Twitter did not agree to give me the required data, but it was replaced by the data attached to this project.**\n",
    "\n",
    "**Data Attached:**\n",
    "\n",
    "- twitter-archive-enhanced.csv\n",
    "- image-Predictions-3.tsv\n",
    "- tweet-json copy.txt"
   ]
  },
  {
   "cell_type": "code",
   "execution_count": 1,
   "id": "5043abb0",
   "metadata": {},
   "outputs": [
    {
     "name": "stdout",
     "output_type": "stream",
     "text": [
      "Collecting package metadata (current_repodata.json): done\n",
      "Solving environment: done\n",
      "\n",
      "## Package Plan ##\n",
      "\n",
      "  environment location: /Users/btool/opt/anaconda3\n",
      "\n",
      "  added / updated specs:\n",
      "    - numpy\n",
      "    - pandas\n",
      "    - requests\n",
      "\n",
      "\n",
      "The following packages will be UPDATED:\n",
      "\n",
      "  conda              conda-forge::conda-22.11.1-py39h6e949~ --> pkgs/main::conda-22.11.1-py39hecd8cb5_4 \n",
      "\n",
      "\n",
      "\n",
      "Downloading and Extracting Packages\n",
      "\n",
      "Preparing transaction: done\n",
      "Verifying transaction: done\n",
      "Executing transaction: done\n",
      "\n",
      "Note: you may need to restart the kernel to use updated packages.\n"
     ]
    }
   ],
   "source": [
    "conda install numpy pandas requests "
   ]
  },
  {
   "cell_type": "code",
   "execution_count": 2,
   "id": "8f47b984",
   "metadata": {},
   "outputs": [
    {
     "name": "stdout",
     "output_type": "stream",
     "text": [
      "Collecting package metadata (current_repodata.json): done\n",
      "Solving environment: done\n",
      "\n",
      "# All requested packages already installed.\n",
      "\n",
      "\n",
      "Note: you may need to restart the kernel to use updated packages.\n"
     ]
    }
   ],
   "source": [
    "conda install -c jmcmurray json"
   ]
  },
  {
   "cell_type": "code",
   "execution_count": 3,
   "id": "6393d143",
   "metadata": {},
   "outputs": [
    {
     "name": "stdout",
     "output_type": "stream",
     "text": [
      "Collecting package metadata (current_repodata.json): done\n",
      "Solving environment: done\n",
      "\n",
      "## Package Plan ##\n",
      "\n",
      "  environment location: /Users/btool/opt/anaconda3\n",
      "\n",
      "  added / updated specs:\n",
      "    - tweepy\n",
      "\n",
      "\n",
      "The following packages will be SUPERSEDED by a higher-priority channel:\n",
      "\n",
      "  conda              pkgs/main::conda-22.11.1-py39hecd8cb5~ --> conda-forge::conda-22.11.1-py39h6e9494a_1 \n",
      "\n",
      "\n",
      "\n",
      "Downloading and Extracting Packages\n",
      "\n",
      "Preparing transaction: done\n",
      "Verifying transaction: done\n",
      "Executing transaction: done\n",
      "\n",
      "Note: you may need to restart the kernel to use updated packages.\n"
     ]
    }
   ],
   "source": [
    "conda install -c conda-forge tweepy"
   ]
  },
  {
   "cell_type": "code",
   "execution_count": 4,
   "id": "04fc9b13",
   "metadata": {},
   "outputs": [],
   "source": [
    "import numpy as nm\n",
    "import pandas as pd\n",
    "import requests as rq\n",
    "import tweepy as tw\n",
    "import json \n",
    "import requests \n",
    "from collections import Counter"
   ]
  },
  {
   "cell_type": "markdown",
   "id": "05637f24",
   "metadata": {},
   "source": [
    "### CSV File.\n",
    "#### 1- Gathering Data."
   ]
  },
  {
   "cell_type": "code",
   "execution_count": 5,
   "id": "e717b40f",
   "metadata": {},
   "outputs": [],
   "source": [
    "# install data in csv file \n",
    "data_csv = pd.read_csv('/Users/btool/Downloads/Project4/twitter-archive-enhanced-2.csv',header=0)"
   ]
  },
  {
   "cell_type": "code",
   "execution_count": 6,
   "id": "9d6a0944",
   "metadata": {},
   "outputs": [
    {
     "data": {
      "text/html": [
       "<div>\n",
       "<style scoped>\n",
       "    .dataframe tbody tr th:only-of-type {\n",
       "        vertical-align: middle;\n",
       "    }\n",
       "\n",
       "    .dataframe tbody tr th {\n",
       "        vertical-align: top;\n",
       "    }\n",
       "\n",
       "    .dataframe thead th {\n",
       "        text-align: right;\n",
       "    }\n",
       "</style>\n",
       "<table border=\"1\" class=\"dataframe\">\n",
       "  <thead>\n",
       "    <tr style=\"text-align: right;\">\n",
       "      <th></th>\n",
       "      <th>tweet_id</th>\n",
       "      <th>in_reply_to_status_id</th>\n",
       "      <th>in_reply_to_user_id</th>\n",
       "      <th>timestamp</th>\n",
       "      <th>source</th>\n",
       "      <th>text</th>\n",
       "      <th>retweeted_status_id</th>\n",
       "      <th>retweeted_status_user_id</th>\n",
       "      <th>retweeted_status_timestamp</th>\n",
       "      <th>expanded_urls</th>\n",
       "      <th>rating_numerator</th>\n",
       "      <th>rating_denominator</th>\n",
       "      <th>name</th>\n",
       "      <th>doggo</th>\n",
       "      <th>floofer</th>\n",
       "      <th>pupper</th>\n",
       "      <th>puppo</th>\n",
       "    </tr>\n",
       "  </thead>\n",
       "  <tbody>\n",
       "    <tr>\n",
       "      <th>0</th>\n",
       "      <td>892420643555336193</td>\n",
       "      <td>NaN</td>\n",
       "      <td>NaN</td>\n",
       "      <td>2017-08-01 16:23:56 +0000</td>\n",
       "      <td>&lt;a href=\"http://twitter.com/download/iphone\" r...</td>\n",
       "      <td>This is Phineas. He's a mystical boy. Only eve...</td>\n",
       "      <td>NaN</td>\n",
       "      <td>NaN</td>\n",
       "      <td>NaN</td>\n",
       "      <td>https://twitter.com/dog_rates/status/892420643...</td>\n",
       "      <td>13</td>\n",
       "      <td>10</td>\n",
       "      <td>Phineas</td>\n",
       "      <td>None</td>\n",
       "      <td>None</td>\n",
       "      <td>None</td>\n",
       "      <td>None</td>\n",
       "    </tr>\n",
       "    <tr>\n",
       "      <th>1</th>\n",
       "      <td>892177421306343426</td>\n",
       "      <td>NaN</td>\n",
       "      <td>NaN</td>\n",
       "      <td>2017-08-01 00:17:27 +0000</td>\n",
       "      <td>&lt;a href=\"http://twitter.com/download/iphone\" r...</td>\n",
       "      <td>This is Tilly. She's just checking pup on you....</td>\n",
       "      <td>NaN</td>\n",
       "      <td>NaN</td>\n",
       "      <td>NaN</td>\n",
       "      <td>https://twitter.com/dog_rates/status/892177421...</td>\n",
       "      <td>13</td>\n",
       "      <td>10</td>\n",
       "      <td>Tilly</td>\n",
       "      <td>None</td>\n",
       "      <td>None</td>\n",
       "      <td>None</td>\n",
       "      <td>None</td>\n",
       "    </tr>\n",
       "    <tr>\n",
       "      <th>2</th>\n",
       "      <td>891815181378084864</td>\n",
       "      <td>NaN</td>\n",
       "      <td>NaN</td>\n",
       "      <td>2017-07-31 00:18:03 +0000</td>\n",
       "      <td>&lt;a href=\"http://twitter.com/download/iphone\" r...</td>\n",
       "      <td>This is Archie. He is a rare Norwegian Pouncin...</td>\n",
       "      <td>NaN</td>\n",
       "      <td>NaN</td>\n",
       "      <td>NaN</td>\n",
       "      <td>https://twitter.com/dog_rates/status/891815181...</td>\n",
       "      <td>12</td>\n",
       "      <td>10</td>\n",
       "      <td>Archie</td>\n",
       "      <td>None</td>\n",
       "      <td>None</td>\n",
       "      <td>None</td>\n",
       "      <td>None</td>\n",
       "    </tr>\n",
       "    <tr>\n",
       "      <th>3</th>\n",
       "      <td>891689557279858688</td>\n",
       "      <td>NaN</td>\n",
       "      <td>NaN</td>\n",
       "      <td>2017-07-30 15:58:51 +0000</td>\n",
       "      <td>&lt;a href=\"http://twitter.com/download/iphone\" r...</td>\n",
       "      <td>This is Darla. She commenced a snooze mid meal...</td>\n",
       "      <td>NaN</td>\n",
       "      <td>NaN</td>\n",
       "      <td>NaN</td>\n",
       "      <td>https://twitter.com/dog_rates/status/891689557...</td>\n",
       "      <td>13</td>\n",
       "      <td>10</td>\n",
       "      <td>Darla</td>\n",
       "      <td>None</td>\n",
       "      <td>None</td>\n",
       "      <td>None</td>\n",
       "      <td>None</td>\n",
       "    </tr>\n",
       "    <tr>\n",
       "      <th>4</th>\n",
       "      <td>891327558926688256</td>\n",
       "      <td>NaN</td>\n",
       "      <td>NaN</td>\n",
       "      <td>2017-07-29 16:00:24 +0000</td>\n",
       "      <td>&lt;a href=\"http://twitter.com/download/iphone\" r...</td>\n",
       "      <td>This is Franklin. He would like you to stop ca...</td>\n",
       "      <td>NaN</td>\n",
       "      <td>NaN</td>\n",
       "      <td>NaN</td>\n",
       "      <td>https://twitter.com/dog_rates/status/891327558...</td>\n",
       "      <td>12</td>\n",
       "      <td>10</td>\n",
       "      <td>Franklin</td>\n",
       "      <td>None</td>\n",
       "      <td>None</td>\n",
       "      <td>None</td>\n",
       "      <td>None</td>\n",
       "    </tr>\n",
       "  </tbody>\n",
       "</table>\n",
       "</div>"
      ],
      "text/plain": [
       "             tweet_id  in_reply_to_status_id  in_reply_to_user_id  \\\n",
       "0  892420643555336193                    NaN                  NaN   \n",
       "1  892177421306343426                    NaN                  NaN   \n",
       "2  891815181378084864                    NaN                  NaN   \n",
       "3  891689557279858688                    NaN                  NaN   \n",
       "4  891327558926688256                    NaN                  NaN   \n",
       "\n",
       "                   timestamp  \\\n",
       "0  2017-08-01 16:23:56 +0000   \n",
       "1  2017-08-01 00:17:27 +0000   \n",
       "2  2017-07-31 00:18:03 +0000   \n",
       "3  2017-07-30 15:58:51 +0000   \n",
       "4  2017-07-29 16:00:24 +0000   \n",
       "\n",
       "                                              source  \\\n",
       "0  <a href=\"http://twitter.com/download/iphone\" r...   \n",
       "1  <a href=\"http://twitter.com/download/iphone\" r...   \n",
       "2  <a href=\"http://twitter.com/download/iphone\" r...   \n",
       "3  <a href=\"http://twitter.com/download/iphone\" r...   \n",
       "4  <a href=\"http://twitter.com/download/iphone\" r...   \n",
       "\n",
       "                                                text  retweeted_status_id  \\\n",
       "0  This is Phineas. He's a mystical boy. Only eve...                  NaN   \n",
       "1  This is Tilly. She's just checking pup on you....                  NaN   \n",
       "2  This is Archie. He is a rare Norwegian Pouncin...                  NaN   \n",
       "3  This is Darla. She commenced a snooze mid meal...                  NaN   \n",
       "4  This is Franklin. He would like you to stop ca...                  NaN   \n",
       "\n",
       "   retweeted_status_user_id retweeted_status_timestamp  \\\n",
       "0                       NaN                        NaN   \n",
       "1                       NaN                        NaN   \n",
       "2                       NaN                        NaN   \n",
       "3                       NaN                        NaN   \n",
       "4                       NaN                        NaN   \n",
       "\n",
       "                                       expanded_urls  rating_numerator  \\\n",
       "0  https://twitter.com/dog_rates/status/892420643...                13   \n",
       "1  https://twitter.com/dog_rates/status/892177421...                13   \n",
       "2  https://twitter.com/dog_rates/status/891815181...                12   \n",
       "3  https://twitter.com/dog_rates/status/891689557...                13   \n",
       "4  https://twitter.com/dog_rates/status/891327558...                12   \n",
       "\n",
       "   rating_denominator      name doggo floofer pupper puppo  \n",
       "0                  10   Phineas  None    None   None  None  \n",
       "1                  10     Tilly  None    None   None  None  \n",
       "2                  10    Archie  None    None   None  None  \n",
       "3                  10     Darla  None    None   None  None  \n",
       "4                  10  Franklin  None    None   None  None  "
      ]
     },
     "execution_count": 6,
     "metadata": {},
     "output_type": "execute_result"
    }
   ],
   "source": [
    "data_csv.head()"
   ]
  },
  {
   "cell_type": "code",
   "execution_count": 7,
   "id": "bebb89c3",
   "metadata": {},
   "outputs": [
    {
     "name": "stdout",
     "output_type": "stream",
     "text": [
      "<class 'pandas.core.frame.DataFrame'>\n",
      "RangeIndex: 2356 entries, 0 to 2355\n",
      "Data columns (total 17 columns):\n",
      " #   Column                      Non-Null Count  Dtype  \n",
      "---  ------                      --------------  -----  \n",
      " 0   tweet_id                    2356 non-null   int64  \n",
      " 1   in_reply_to_status_id       78 non-null     float64\n",
      " 2   in_reply_to_user_id         78 non-null     float64\n",
      " 3   timestamp                   2356 non-null   object \n",
      " 4   source                      2356 non-null   object \n",
      " 5   text                        2356 non-null   object \n",
      " 6   retweeted_status_id         181 non-null    float64\n",
      " 7   retweeted_status_user_id    181 non-null    float64\n",
      " 8   retweeted_status_timestamp  181 non-null    object \n",
      " 9   expanded_urls               2297 non-null   object \n",
      " 10  rating_numerator            2356 non-null   int64  \n",
      " 11  rating_denominator          2356 non-null   int64  \n",
      " 12  name                        2356 non-null   object \n",
      " 13  doggo                       2356 non-null   object \n",
      " 14  floofer                     2356 non-null   object \n",
      " 15  pupper                      2356 non-null   object \n",
      " 16  puppo                       2356 non-null   object \n",
      "dtypes: float64(4), int64(3), object(10)\n",
      "memory usage: 313.0+ KB\n"
     ]
    }
   ],
   "source": [
    "data_csv.info()"
   ]
  },
  {
   "cell_type": "markdown",
   "id": "99a87668",
   "metadata": {},
   "source": [
    "#### 2- Assess Data."
   ]
  },
  {
   "cell_type": "code",
   "execution_count": 8,
   "id": "9170f924",
   "metadata": {},
   "outputs": [
    {
     "data": {
      "text/html": [
       "<div>\n",
       "<style scoped>\n",
       "    .dataframe tbody tr th:only-of-type {\n",
       "        vertical-align: middle;\n",
       "    }\n",
       "\n",
       "    .dataframe tbody tr th {\n",
       "        vertical-align: top;\n",
       "    }\n",
       "\n",
       "    .dataframe thead th {\n",
       "        text-align: right;\n",
       "    }\n",
       "</style>\n",
       "<table border=\"1\" class=\"dataframe\">\n",
       "  <thead>\n",
       "    <tr style=\"text-align: right;\">\n",
       "      <th></th>\n",
       "      <th>doggo</th>\n",
       "      <th>floofer</th>\n",
       "      <th>pupper</th>\n",
       "      <th>puppo</th>\n",
       "      <th>count</th>\n",
       "    </tr>\n",
       "  </thead>\n",
       "  <tbody>\n",
       "    <tr>\n",
       "      <th>0</th>\n",
       "      <td></td>\n",
       "      <td></td>\n",
       "      <td></td>\n",
       "      <td></td>\n",
       "      <td>1976</td>\n",
       "    </tr>\n",
       "    <tr>\n",
       "      <th>1</th>\n",
       "      <td></td>\n",
       "      <td></td>\n",
       "      <td></td>\n",
       "      <td>puppo</td>\n",
       "      <td>29</td>\n",
       "    </tr>\n",
       "    <tr>\n",
       "      <th>2</th>\n",
       "      <td></td>\n",
       "      <td></td>\n",
       "      <td>pupper</td>\n",
       "      <td></td>\n",
       "      <td>245</td>\n",
       "    </tr>\n",
       "    <tr>\n",
       "      <th>3</th>\n",
       "      <td></td>\n",
       "      <td>floofer</td>\n",
       "      <td></td>\n",
       "      <td></td>\n",
       "      <td>9</td>\n",
       "    </tr>\n",
       "    <tr>\n",
       "      <th>4</th>\n",
       "      <td>doggo</td>\n",
       "      <td></td>\n",
       "      <td></td>\n",
       "      <td></td>\n",
       "      <td>83</td>\n",
       "    </tr>\n",
       "    <tr>\n",
       "      <th>5</th>\n",
       "      <td>doggo</td>\n",
       "      <td></td>\n",
       "      <td></td>\n",
       "      <td>puppo</td>\n",
       "      <td>1</td>\n",
       "    </tr>\n",
       "    <tr>\n",
       "      <th>6</th>\n",
       "      <td>doggo</td>\n",
       "      <td></td>\n",
       "      <td>pupper</td>\n",
       "      <td></td>\n",
       "      <td>12</td>\n",
       "    </tr>\n",
       "    <tr>\n",
       "      <th>7</th>\n",
       "      <td>doggo</td>\n",
       "      <td>floofer</td>\n",
       "      <td></td>\n",
       "      <td></td>\n",
       "      <td>1</td>\n",
       "    </tr>\n",
       "  </tbody>\n",
       "</table>\n",
       "</div>"
      ],
      "text/plain": [
       "   doggo  floofer  pupper  puppo  count\n",
       "0                                  1976\n",
       "1                          puppo     29\n",
       "2                  pupper           245\n",
       "3         floofer                     9\n",
       "4  doggo                             83\n",
       "5  doggo                   puppo      1\n",
       "6  doggo           pupper            12\n",
       "7  doggo  floofer                     1"
      ]
     },
     "execution_count": 8,
     "metadata": {},
     "output_type": "execute_result"
    }
   ],
   "source": [
    "# - Tidiness:\n",
    "## Merge 4 columns \"doggo, floofer, pupper, puppo\" in one column its have name \"Type_of_Object\".\n",
    "## (doggo to 1, floofer to 2, pupper to 3, puppo to 4, multiple to 5, and 0 is non of these)\n",
    "\n",
    "data_csv.loc[data_csv.doggo == 'None', 'doggo'] = ''\n",
    "data_csv.loc[data_csv.floofer == 'None', 'floofer'] = ''\n",
    "data_csv.loc[data_csv.pupper == 'None', 'pupper'] = ''\n",
    "data_csv.loc[data_csv.puppo == 'None', 'puppo'] = ''\n",
    "\n",
    "data_csv.groupby([\"doggo\", \"floofer\", \"pupper\", \"puppo\"]).size().reset_index().rename(columns={0: \"count\"})"
   ]
  },
  {
   "cell_type": "code",
   "execution_count": 9,
   "id": "50aa650f",
   "metadata": {},
   "outputs": [],
   "source": [
    "data_csv['dogs'] = data_csv.doggo + data_csv.floofer + data_csv.pupper + data_csv.puppo\n",
    "\n",
    "data_csv.loc[data_csv.dogs == 'doggopupper', 'dogs'] = 'multiple'\n",
    "data_csv.loc[data_csv.dogs == 'doggopuppo', 'dogs'] = 'multiple'\n",
    "data_csv.loc[data_csv.dogs == 'doggofloofer', 'dogs'] = 'multiple'\n",
    "\n",
    "data_csv.loc[data_csv.dogs == '', 'dogs'] = 'No_One'"
   ]
  },
  {
   "cell_type": "code",
   "execution_count": 10,
   "id": "012796e5",
   "metadata": {},
   "outputs": [],
   "source": [
    "## conditions\n",
    "conditions = [\n",
    "    (data_csv['dogs'] == 'doggo'),\n",
    "    (data_csv['dogs'] == 'floofer') ,\n",
    "    (data_csv['dogs'] == 'pupper') ,\n",
    "    (data_csv['dogs'] == 'puppo'),\n",
    "    (data_csv['dogs'] == 'multiple'),\n",
    "    (data_csv['dogs'] == 'No_One'),\n",
    "               ]\n",
    "\n",
    "## create a list of the values we want to assign for each condition\n",
    "values = ['1', '2', '3', '4','5','0']\n",
    "\n",
    "## create a new column and using our lists \n",
    "data_csv['Type_of_Object'] = nm.select(conditions, values)"
   ]
  },
  {
   "cell_type": "code",
   "execution_count": 11,
   "id": "eca713b5",
   "metadata": {},
   "outputs": [
    {
     "data": {
      "text/html": [
       "<div>\n",
       "<style scoped>\n",
       "    .dataframe tbody tr th:only-of-type {\n",
       "        vertical-align: middle;\n",
       "    }\n",
       "\n",
       "    .dataframe tbody tr th {\n",
       "        vertical-align: top;\n",
       "    }\n",
       "\n",
       "    .dataframe thead th {\n",
       "        text-align: right;\n",
       "    }\n",
       "</style>\n",
       "<table border=\"1\" class=\"dataframe\">\n",
       "  <thead>\n",
       "    <tr style=\"text-align: right;\">\n",
       "      <th></th>\n",
       "      <th>tweet_id</th>\n",
       "      <th>in_reply_to_status_id</th>\n",
       "      <th>in_reply_to_user_id</th>\n",
       "      <th>timestamp</th>\n",
       "      <th>source</th>\n",
       "      <th>text</th>\n",
       "      <th>retweeted_status_id</th>\n",
       "      <th>retweeted_status_user_id</th>\n",
       "      <th>retweeted_status_timestamp</th>\n",
       "      <th>expanded_urls</th>\n",
       "      <th>rating_numerator</th>\n",
       "      <th>rating_denominator</th>\n",
       "      <th>name</th>\n",
       "      <th>doggo</th>\n",
       "      <th>floofer</th>\n",
       "      <th>pupper</th>\n",
       "      <th>puppo</th>\n",
       "      <th>dogs</th>\n",
       "      <th>Type_of_Object</th>\n",
       "    </tr>\n",
       "  </thead>\n",
       "  <tbody>\n",
       "    <tr>\n",
       "      <th>0</th>\n",
       "      <td>892420643555336193</td>\n",
       "      <td>NaN</td>\n",
       "      <td>NaN</td>\n",
       "      <td>2017-08-01 16:23:56 +0000</td>\n",
       "      <td>&lt;a href=\"http://twitter.com/download/iphone\" r...</td>\n",
       "      <td>This is Phineas. He's a mystical boy. Only eve...</td>\n",
       "      <td>NaN</td>\n",
       "      <td>NaN</td>\n",
       "      <td>NaN</td>\n",
       "      <td>https://twitter.com/dog_rates/status/892420643...</td>\n",
       "      <td>13</td>\n",
       "      <td>10</td>\n",
       "      <td>Phineas</td>\n",
       "      <td></td>\n",
       "      <td></td>\n",
       "      <td></td>\n",
       "      <td></td>\n",
       "      <td>No_One</td>\n",
       "      <td>0</td>\n",
       "    </tr>\n",
       "    <tr>\n",
       "      <th>1</th>\n",
       "      <td>892177421306343426</td>\n",
       "      <td>NaN</td>\n",
       "      <td>NaN</td>\n",
       "      <td>2017-08-01 00:17:27 +0000</td>\n",
       "      <td>&lt;a href=\"http://twitter.com/download/iphone\" r...</td>\n",
       "      <td>This is Tilly. She's just checking pup on you....</td>\n",
       "      <td>NaN</td>\n",
       "      <td>NaN</td>\n",
       "      <td>NaN</td>\n",
       "      <td>https://twitter.com/dog_rates/status/892177421...</td>\n",
       "      <td>13</td>\n",
       "      <td>10</td>\n",
       "      <td>Tilly</td>\n",
       "      <td></td>\n",
       "      <td></td>\n",
       "      <td></td>\n",
       "      <td></td>\n",
       "      <td>No_One</td>\n",
       "      <td>0</td>\n",
       "    </tr>\n",
       "    <tr>\n",
       "      <th>2</th>\n",
       "      <td>891815181378084864</td>\n",
       "      <td>NaN</td>\n",
       "      <td>NaN</td>\n",
       "      <td>2017-07-31 00:18:03 +0000</td>\n",
       "      <td>&lt;a href=\"http://twitter.com/download/iphone\" r...</td>\n",
       "      <td>This is Archie. He is a rare Norwegian Pouncin...</td>\n",
       "      <td>NaN</td>\n",
       "      <td>NaN</td>\n",
       "      <td>NaN</td>\n",
       "      <td>https://twitter.com/dog_rates/status/891815181...</td>\n",
       "      <td>12</td>\n",
       "      <td>10</td>\n",
       "      <td>Archie</td>\n",
       "      <td></td>\n",
       "      <td></td>\n",
       "      <td></td>\n",
       "      <td></td>\n",
       "      <td>No_One</td>\n",
       "      <td>0</td>\n",
       "    </tr>\n",
       "    <tr>\n",
       "      <th>3</th>\n",
       "      <td>891689557279858688</td>\n",
       "      <td>NaN</td>\n",
       "      <td>NaN</td>\n",
       "      <td>2017-07-30 15:58:51 +0000</td>\n",
       "      <td>&lt;a href=\"http://twitter.com/download/iphone\" r...</td>\n",
       "      <td>This is Darla. She commenced a snooze mid meal...</td>\n",
       "      <td>NaN</td>\n",
       "      <td>NaN</td>\n",
       "      <td>NaN</td>\n",
       "      <td>https://twitter.com/dog_rates/status/891689557...</td>\n",
       "      <td>13</td>\n",
       "      <td>10</td>\n",
       "      <td>Darla</td>\n",
       "      <td></td>\n",
       "      <td></td>\n",
       "      <td></td>\n",
       "      <td></td>\n",
       "      <td>No_One</td>\n",
       "      <td>0</td>\n",
       "    </tr>\n",
       "    <tr>\n",
       "      <th>4</th>\n",
       "      <td>891327558926688256</td>\n",
       "      <td>NaN</td>\n",
       "      <td>NaN</td>\n",
       "      <td>2017-07-29 16:00:24 +0000</td>\n",
       "      <td>&lt;a href=\"http://twitter.com/download/iphone\" r...</td>\n",
       "      <td>This is Franklin. He would like you to stop ca...</td>\n",
       "      <td>NaN</td>\n",
       "      <td>NaN</td>\n",
       "      <td>NaN</td>\n",
       "      <td>https://twitter.com/dog_rates/status/891327558...</td>\n",
       "      <td>12</td>\n",
       "      <td>10</td>\n",
       "      <td>Franklin</td>\n",
       "      <td></td>\n",
       "      <td></td>\n",
       "      <td></td>\n",
       "      <td></td>\n",
       "      <td>No_One</td>\n",
       "      <td>0</td>\n",
       "    </tr>\n",
       "  </tbody>\n",
       "</table>\n",
       "</div>"
      ],
      "text/plain": [
       "             tweet_id  in_reply_to_status_id  in_reply_to_user_id  \\\n",
       "0  892420643555336193                    NaN                  NaN   \n",
       "1  892177421306343426                    NaN                  NaN   \n",
       "2  891815181378084864                    NaN                  NaN   \n",
       "3  891689557279858688                    NaN                  NaN   \n",
       "4  891327558926688256                    NaN                  NaN   \n",
       "\n",
       "                   timestamp  \\\n",
       "0  2017-08-01 16:23:56 +0000   \n",
       "1  2017-08-01 00:17:27 +0000   \n",
       "2  2017-07-31 00:18:03 +0000   \n",
       "3  2017-07-30 15:58:51 +0000   \n",
       "4  2017-07-29 16:00:24 +0000   \n",
       "\n",
       "                                              source  \\\n",
       "0  <a href=\"http://twitter.com/download/iphone\" r...   \n",
       "1  <a href=\"http://twitter.com/download/iphone\" r...   \n",
       "2  <a href=\"http://twitter.com/download/iphone\" r...   \n",
       "3  <a href=\"http://twitter.com/download/iphone\" r...   \n",
       "4  <a href=\"http://twitter.com/download/iphone\" r...   \n",
       "\n",
       "                                                text  retweeted_status_id  \\\n",
       "0  This is Phineas. He's a mystical boy. Only eve...                  NaN   \n",
       "1  This is Tilly. She's just checking pup on you....                  NaN   \n",
       "2  This is Archie. He is a rare Norwegian Pouncin...                  NaN   \n",
       "3  This is Darla. She commenced a snooze mid meal...                  NaN   \n",
       "4  This is Franklin. He would like you to stop ca...                  NaN   \n",
       "\n",
       "   retweeted_status_user_id retweeted_status_timestamp  \\\n",
       "0                       NaN                        NaN   \n",
       "1                       NaN                        NaN   \n",
       "2                       NaN                        NaN   \n",
       "3                       NaN                        NaN   \n",
       "4                       NaN                        NaN   \n",
       "\n",
       "                                       expanded_urls  rating_numerator  \\\n",
       "0  https://twitter.com/dog_rates/status/892420643...                13   \n",
       "1  https://twitter.com/dog_rates/status/892177421...                13   \n",
       "2  https://twitter.com/dog_rates/status/891815181...                12   \n",
       "3  https://twitter.com/dog_rates/status/891689557...                13   \n",
       "4  https://twitter.com/dog_rates/status/891327558...                12   \n",
       "\n",
       "   rating_denominator      name doggo floofer pupper puppo    dogs  \\\n",
       "0                  10   Phineas                             No_One   \n",
       "1                  10     Tilly                             No_One   \n",
       "2                  10    Archie                             No_One   \n",
       "3                  10     Darla                             No_One   \n",
       "4                  10  Franklin                             No_One   \n",
       "\n",
       "  Type_of_Object  \n",
       "0              0  \n",
       "1              0  \n",
       "2              0  \n",
       "3              0  \n",
       "4              0  "
      ]
     },
     "execution_count": 11,
     "metadata": {},
     "output_type": "execute_result"
    }
   ],
   "source": [
    "data_csv.head()"
   ]
  },
  {
   "cell_type": "code",
   "execution_count": 12,
   "id": "ce861344",
   "metadata": {},
   "outputs": [],
   "source": [
    "data_csv.drop(['doggo','floofer','pupper','puppo'], axis=1, inplace=True)"
   ]
  },
  {
   "cell_type": "code",
   "execution_count": 13,
   "id": "d194faa4",
   "metadata": {},
   "outputs": [],
   "source": [
    "# - Quality:\n",
    "## Remove Duplicates:\n",
    "data_csv.drop_duplicates(subset=\"tweet_id\",\n",
    "                    keep = False , inplace = True)"
   ]
  },
  {
   "cell_type": "code",
   "execution_count": 14,
   "id": "2b02a886",
   "metadata": {},
   "outputs": [
    {
     "name": "stdout",
     "output_type": "stream",
     "text": [
      "<class 'pandas.core.frame.DataFrame'>\n",
      "Int64Index: 2356 entries, 0 to 2355\n",
      "Data columns (total 15 columns):\n",
      " #   Column                      Non-Null Count  Dtype  \n",
      "---  ------                      --------------  -----  \n",
      " 0   tweet_id                    2356 non-null   int64  \n",
      " 1   in_reply_to_status_id       78 non-null     float64\n",
      " 2   in_reply_to_user_id         78 non-null     float64\n",
      " 3   timestamp                   2356 non-null   object \n",
      " 4   source                      2356 non-null   object \n",
      " 5   text                        2356 non-null   object \n",
      " 6   retweeted_status_id         181 non-null    float64\n",
      " 7   retweeted_status_user_id    181 non-null    float64\n",
      " 8   retweeted_status_timestamp  181 non-null    object \n",
      " 9   expanded_urls               2297 non-null   object \n",
      " 10  rating_numerator            2356 non-null   int64  \n",
      " 11  rating_denominator          2356 non-null   int64  \n",
      " 12  name                        2356 non-null   object \n",
      " 13  dogs                        2356 non-null   object \n",
      " 14  Type_of_Object              2356 non-null   object \n",
      "dtypes: float64(4), int64(3), object(8)\n",
      "memory usage: 294.5+ KB\n"
     ]
    }
   ],
   "source": [
    "data_csv.info()"
   ]
  },
  {
   "cell_type": "markdown",
   "id": "2490cd80",
   "metadata": {},
   "source": [
    "##### In this data, there are no duplication in the variable \" tweet_id \" "
   ]
  },
  {
   "cell_type": "code",
   "execution_count": 15,
   "id": "e20ac064",
   "metadata": {},
   "outputs": [
    {
     "name": "stdout",
     "output_type": "stream",
     "text": [
      "tweet_id                         0\n",
      "in_reply_to_status_id         2278\n",
      "in_reply_to_user_id           2278\n",
      "timestamp                        0\n",
      "source                           0\n",
      "text                             0\n",
      "retweeted_status_id           2175\n",
      "retweeted_status_user_id      2175\n",
      "retweeted_status_timestamp    2175\n",
      "expanded_urls                   59\n",
      "rating_numerator                 0\n",
      "rating_denominator               0\n",
      "name                             0\n",
      "dogs                             0\n",
      "Type_of_Object                   0\n",
      "dtype: int64\n"
     ]
    }
   ],
   "source": [
    "## Missing Values:\n",
    "print(data_csv.isnull().sum())"
   ]
  },
  {
   "cell_type": "code",
   "execution_count": 16,
   "id": "1e3903ea",
   "metadata": {},
   "outputs": [],
   "source": [
    "data_csv = data_csv[data_csv.retweeted_status_id.isnull()]\n",
    "data_csv = data_csv[data_csv.retweeted_status_user_id.isnull()]\n",
    "data_csv = data_csv[data_csv.retweeted_status_timestamp.isnull()]"
   ]
  },
  {
   "cell_type": "markdown",
   "id": "919bd1f6",
   "metadata": {},
   "source": [
    "***As we can observe, there are missing values in some columns***\n",
    "\n",
    "***But looking at the actual value of the missing data, we can say that it is not valuable as they are just people’s/ tweet identity*** \n",
    "\n",
    "***In addition, there is the (expanded_urls) value that is also not important***\n",
    "\n",
    "***That’s why we are not using them.***"
   ]
  },
  {
   "cell_type": "code",
   "execution_count": 17,
   "id": "3980a74d",
   "metadata": {},
   "outputs": [],
   "source": [
    "data_csv.drop(['in_reply_to_status_id','in_reply_to_user_id','retweeted_status_id','retweeted_status_user_id',\n",
    "               'retweeted_status_timestamp','expanded_urls'], axis=1, inplace=True)"
   ]
  },
  {
   "cell_type": "markdown",
   "id": "8a39ad33",
   "metadata": {},
   "source": [
    "#### 3- Clean Data."
   ]
  },
  {
   "cell_type": "code",
   "execution_count": 18,
   "id": "a168d60b",
   "metadata": {},
   "outputs": [],
   "source": [
    "data_csv_copy = data_csv.copy()"
   ]
  },
  {
   "cell_type": "markdown",
   "id": "2837dd73",
   "metadata": {},
   "source": [
    "##### 1- Difine:\n",
    "1- Rename column \"tweet_id\" to \"ID\"\n",
    "\n",
    "2- Replacing column \"timestamp\" with the \"Hour\" only to perform the appropriate analysis on it.\n",
    "\n",
    "3- Delete columns have two or more variables in the same column we not need it.\n",
    "**Such as :** source, text.\n",
    "\n",
    "   - source: It contains two variables.\n",
    "\n",
    "   - text: It contains three variables.\n",
    "\n",
    "4- Delete all column we dont use it \"rating_numerator, rating_denominator, name, dogs\"\n"
   ]
  },
  {
   "cell_type": "markdown",
   "id": "247ccea9",
   "metadata": {},
   "source": [
    "##### 2- Code:"
   ]
  },
  {
   "cell_type": "code",
   "execution_count": 19,
   "id": "23f0bbff",
   "metadata": {},
   "outputs": [],
   "source": [
    "# 1- Rename column \"tweet_id\" to \"ID\":\n",
    "data_csv_copy = data_csv_copy.rename(columns = {'tweet_id': 'ID'}, inplace = False)"
   ]
  },
  {
   "cell_type": "code",
   "execution_count": 20,
   "id": "0006fc22",
   "metadata": {},
   "outputs": [],
   "source": [
    "# 2- Replacing column \"timestamp\" with the \"Hour\" only to perform the appropriate analysis on it.\n",
    "data_csv_copy['timestamp'] = pd.to_datetime(data_csv_copy['timestamp'])\n",
    "data_csv_copy['Hour']= data_csv_copy['timestamp'].dt.hour"
   ]
  },
  {
   "cell_type": "code",
   "execution_count": 21,
   "id": "622f8101",
   "metadata": {},
   "outputs": [],
   "source": [
    "data_csv_copy.drop(['timestamp'], axis=1, inplace=True)"
   ]
  },
  {
   "cell_type": "code",
   "execution_count": 22,
   "id": "c79af532",
   "metadata": {},
   "outputs": [],
   "source": [
    "# 3- Delete columns have two or more variables in the same column.\n",
    "data_csv_copy.drop(['source','text'], axis=1, inplace=True)"
   ]
  },
  {
   "cell_type": "code",
   "execution_count": 23,
   "id": "af4d8105",
   "metadata": {},
   "outputs": [],
   "source": [
    "# 4- Delete all column I dont need it \"rating_numerator, rating_denominator, name\":\n",
    "data_csv_copy.drop(['rating_numerator','rating_denominator','name','dogs'], axis=1, inplace=True)"
   ]
  },
  {
   "cell_type": "markdown",
   "id": "d0ada6ae",
   "metadata": {},
   "source": [
    "##### 3- Test:"
   ]
  },
  {
   "cell_type": "code",
   "execution_count": 24,
   "id": "4f3414ff",
   "metadata": {},
   "outputs": [
    {
     "data": {
      "text/html": [
       "<div>\n",
       "<style scoped>\n",
       "    .dataframe tbody tr th:only-of-type {\n",
       "        vertical-align: middle;\n",
       "    }\n",
       "\n",
       "    .dataframe tbody tr th {\n",
       "        vertical-align: top;\n",
       "    }\n",
       "\n",
       "    .dataframe thead th {\n",
       "        text-align: right;\n",
       "    }\n",
       "</style>\n",
       "<table border=\"1\" class=\"dataframe\">\n",
       "  <thead>\n",
       "    <tr style=\"text-align: right;\">\n",
       "      <th></th>\n",
       "      <th>ID</th>\n",
       "      <th>Type_of_Object</th>\n",
       "      <th>Hour</th>\n",
       "    </tr>\n",
       "  </thead>\n",
       "  <tbody>\n",
       "    <tr>\n",
       "      <th>0</th>\n",
       "      <td>892420643555336193</td>\n",
       "      <td>0</td>\n",
       "      <td>16</td>\n",
       "    </tr>\n",
       "    <tr>\n",
       "      <th>1</th>\n",
       "      <td>892177421306343426</td>\n",
       "      <td>0</td>\n",
       "      <td>0</td>\n",
       "    </tr>\n",
       "    <tr>\n",
       "      <th>2</th>\n",
       "      <td>891815181378084864</td>\n",
       "      <td>0</td>\n",
       "      <td>0</td>\n",
       "    </tr>\n",
       "    <tr>\n",
       "      <th>3</th>\n",
       "      <td>891689557279858688</td>\n",
       "      <td>0</td>\n",
       "      <td>15</td>\n",
       "    </tr>\n",
       "    <tr>\n",
       "      <th>4</th>\n",
       "      <td>891327558926688256</td>\n",
       "      <td>0</td>\n",
       "      <td>16</td>\n",
       "    </tr>\n",
       "  </tbody>\n",
       "</table>\n",
       "</div>"
      ],
      "text/plain": [
       "                   ID Type_of_Object  Hour\n",
       "0  892420643555336193              0    16\n",
       "1  892177421306343426              0     0\n",
       "2  891815181378084864              0     0\n",
       "3  891689557279858688              0    15\n",
       "4  891327558926688256              0    16"
      ]
     },
     "execution_count": 24,
     "metadata": {},
     "output_type": "execute_result"
    }
   ],
   "source": [
    "data_csv_copy.head()"
   ]
  },
  {
   "cell_type": "markdown",
   "id": "8f26f767",
   "metadata": {},
   "source": [
    "**From the above mentioned table, the name of column ID has been modified, moreover, unimportant columns have been deleted. Also, we added Hours as new column, and we merged the columns into one (Type_of_Object)**"
   ]
  },
  {
   "cell_type": "code",
   "execution_count": 25,
   "id": "0e7cecb3",
   "metadata": {},
   "outputs": [
    {
     "data": {
      "text/plain": [
       "ID                2175\n",
       "Type_of_Object       6\n",
       "Hour                19\n",
       "dtype: int64"
      ]
     },
     "execution_count": 25,
     "metadata": {},
     "output_type": "execute_result"
    }
   ],
   "source": [
    "data_csv_copy.nunique()"
   ]
  },
  {
   "cell_type": "markdown",
   "id": "74cc001b",
   "metadata": {},
   "source": [
    "***In the merge there are 5 values exactly as we wanted 0, 1, 2, 3 and 4***"
   ]
  },
  {
   "cell_type": "markdown",
   "id": "998b0311",
   "metadata": {},
   "source": [
    "### TSV File.\n",
    "#### 1- Gathering Data."
   ]
  },
  {
   "cell_type": "code",
   "execution_count": 26,
   "id": "3118730a",
   "metadata": {},
   "outputs": [
    {
     "data": {
      "text/html": [
       "<div>\n",
       "<style scoped>\n",
       "    .dataframe tbody tr th:only-of-type {\n",
       "        vertical-align: middle;\n",
       "    }\n",
       "\n",
       "    .dataframe tbody tr th {\n",
       "        vertical-align: top;\n",
       "    }\n",
       "\n",
       "    .dataframe thead th {\n",
       "        text-align: right;\n",
       "    }\n",
       "</style>\n",
       "<table border=\"1\" class=\"dataframe\">\n",
       "  <thead>\n",
       "    <tr style=\"text-align: right;\">\n",
       "      <th></th>\n",
       "      <th>tweet_id</th>\n",
       "      <th>jpg_url</th>\n",
       "      <th>img_num</th>\n",
       "      <th>p1</th>\n",
       "      <th>p1_conf</th>\n",
       "      <th>p1_dog</th>\n",
       "      <th>p2</th>\n",
       "      <th>p2_conf</th>\n",
       "      <th>p2_dog</th>\n",
       "      <th>p3</th>\n",
       "      <th>p3_conf</th>\n",
       "      <th>p3_dog</th>\n",
       "    </tr>\n",
       "  </thead>\n",
       "  <tbody>\n",
       "    <tr>\n",
       "      <th>0</th>\n",
       "      <td>666020888022790149</td>\n",
       "      <td>https://pbs.twimg.com/media/CT4udn0WwAA0aMy.jpg</td>\n",
       "      <td>1</td>\n",
       "      <td>Welsh_springer_spaniel</td>\n",
       "      <td>0.465074</td>\n",
       "      <td>True</td>\n",
       "      <td>collie</td>\n",
       "      <td>0.156665</td>\n",
       "      <td>True</td>\n",
       "      <td>Shetland_sheepdog</td>\n",
       "      <td>0.061428</td>\n",
       "      <td>True</td>\n",
       "    </tr>\n",
       "    <tr>\n",
       "      <th>1</th>\n",
       "      <td>666029285002620928</td>\n",
       "      <td>https://pbs.twimg.com/media/CT42GRgUYAA5iDo.jpg</td>\n",
       "      <td>1</td>\n",
       "      <td>redbone</td>\n",
       "      <td>0.506826</td>\n",
       "      <td>True</td>\n",
       "      <td>miniature_pinscher</td>\n",
       "      <td>0.074192</td>\n",
       "      <td>True</td>\n",
       "      <td>Rhodesian_ridgeback</td>\n",
       "      <td>0.072010</td>\n",
       "      <td>True</td>\n",
       "    </tr>\n",
       "    <tr>\n",
       "      <th>2</th>\n",
       "      <td>666033412701032449</td>\n",
       "      <td>https://pbs.twimg.com/media/CT4521TWwAEvMyu.jpg</td>\n",
       "      <td>1</td>\n",
       "      <td>German_shepherd</td>\n",
       "      <td>0.596461</td>\n",
       "      <td>True</td>\n",
       "      <td>malinois</td>\n",
       "      <td>0.138584</td>\n",
       "      <td>True</td>\n",
       "      <td>bloodhound</td>\n",
       "      <td>0.116197</td>\n",
       "      <td>True</td>\n",
       "    </tr>\n",
       "    <tr>\n",
       "      <th>3</th>\n",
       "      <td>666044226329800704</td>\n",
       "      <td>https://pbs.twimg.com/media/CT5Dr8HUEAA-lEu.jpg</td>\n",
       "      <td>1</td>\n",
       "      <td>Rhodesian_ridgeback</td>\n",
       "      <td>0.408143</td>\n",
       "      <td>True</td>\n",
       "      <td>redbone</td>\n",
       "      <td>0.360687</td>\n",
       "      <td>True</td>\n",
       "      <td>miniature_pinscher</td>\n",
       "      <td>0.222752</td>\n",
       "      <td>True</td>\n",
       "    </tr>\n",
       "    <tr>\n",
       "      <th>4</th>\n",
       "      <td>666049248165822465</td>\n",
       "      <td>https://pbs.twimg.com/media/CT5IQmsXIAAKY4A.jpg</td>\n",
       "      <td>1</td>\n",
       "      <td>miniature_pinscher</td>\n",
       "      <td>0.560311</td>\n",
       "      <td>True</td>\n",
       "      <td>Rottweiler</td>\n",
       "      <td>0.243682</td>\n",
       "      <td>True</td>\n",
       "      <td>Doberman</td>\n",
       "      <td>0.154629</td>\n",
       "      <td>True</td>\n",
       "    </tr>\n",
       "  </tbody>\n",
       "</table>\n",
       "</div>"
      ],
      "text/plain": [
       "             tweet_id                                          jpg_url  \\\n",
       "0  666020888022790149  https://pbs.twimg.com/media/CT4udn0WwAA0aMy.jpg   \n",
       "1  666029285002620928  https://pbs.twimg.com/media/CT42GRgUYAA5iDo.jpg   \n",
       "2  666033412701032449  https://pbs.twimg.com/media/CT4521TWwAEvMyu.jpg   \n",
       "3  666044226329800704  https://pbs.twimg.com/media/CT5Dr8HUEAA-lEu.jpg   \n",
       "4  666049248165822465  https://pbs.twimg.com/media/CT5IQmsXIAAKY4A.jpg   \n",
       "\n",
       "   img_num                      p1   p1_conf  p1_dog                  p2  \\\n",
       "0        1  Welsh_springer_spaniel  0.465074    True              collie   \n",
       "1        1                 redbone  0.506826    True  miniature_pinscher   \n",
       "2        1         German_shepherd  0.596461    True            malinois   \n",
       "3        1     Rhodesian_ridgeback  0.408143    True             redbone   \n",
       "4        1      miniature_pinscher  0.560311    True          Rottweiler   \n",
       "\n",
       "    p2_conf  p2_dog                   p3   p3_conf  p3_dog  \n",
       "0  0.156665    True    Shetland_sheepdog  0.061428    True  \n",
       "1  0.074192    True  Rhodesian_ridgeback  0.072010    True  \n",
       "2  0.138584    True           bloodhound  0.116197    True  \n",
       "3  0.360687    True   miniature_pinscher  0.222752    True  \n",
       "4  0.243682    True             Doberman  0.154629    True  "
      ]
     },
     "execution_count": 26,
     "metadata": {},
     "output_type": "execute_result"
    }
   ],
   "source": [
    "# install data in tsv file with URL\n",
    "URL = \"https://d17h27t6h515a5.cloudfront.net/topher/2017/August/599fd2ad_image-predictions/image-predictions.tsv\"\n",
    "R = requests.get(URL)\n",
    "with open('image_predictions.tsv', 'wb') as file:\n",
    "    file.write(R.content)\n",
    "data_tsv = pd.read_csv('image_predictions.tsv', sep='\\t')\n",
    "data_tsv.head()"
   ]
  },
  {
   "cell_type": "code",
   "execution_count": 27,
   "id": "04c8112d",
   "metadata": {},
   "outputs": [
    {
     "data": {
      "text/html": [
       "<div>\n",
       "<style scoped>\n",
       "    .dataframe tbody tr th:only-of-type {\n",
       "        vertical-align: middle;\n",
       "    }\n",
       "\n",
       "    .dataframe tbody tr th {\n",
       "        vertical-align: top;\n",
       "    }\n",
       "\n",
       "    .dataframe thead th {\n",
       "        text-align: right;\n",
       "    }\n",
       "</style>\n",
       "<table border=\"1\" class=\"dataframe\">\n",
       "  <thead>\n",
       "    <tr style=\"text-align: right;\">\n",
       "      <th></th>\n",
       "      <th>tweet_id</th>\n",
       "      <th>jpg_url</th>\n",
       "      <th>img_num</th>\n",
       "      <th>p1</th>\n",
       "      <th>p1_conf</th>\n",
       "      <th>p1_dog</th>\n",
       "      <th>p2</th>\n",
       "      <th>p2_conf</th>\n",
       "      <th>p2_dog</th>\n",
       "      <th>p3</th>\n",
       "      <th>p3_conf</th>\n",
       "      <th>p3_dog</th>\n",
       "    </tr>\n",
       "  </thead>\n",
       "  <tbody>\n",
       "    <tr>\n",
       "      <th>0</th>\n",
       "      <td>666020888022790149</td>\n",
       "      <td>https://pbs.twimg.com/media/CT4udn0WwAA0aMy.jpg</td>\n",
       "      <td>1</td>\n",
       "      <td>Welsh_springer_spaniel</td>\n",
       "      <td>0.465074</td>\n",
       "      <td>True</td>\n",
       "      <td>collie</td>\n",
       "      <td>0.156665</td>\n",
       "      <td>True</td>\n",
       "      <td>Shetland_sheepdog</td>\n",
       "      <td>0.061428</td>\n",
       "      <td>True</td>\n",
       "    </tr>\n",
       "    <tr>\n",
       "      <th>1</th>\n",
       "      <td>666029285002620928</td>\n",
       "      <td>https://pbs.twimg.com/media/CT42GRgUYAA5iDo.jpg</td>\n",
       "      <td>1</td>\n",
       "      <td>redbone</td>\n",
       "      <td>0.506826</td>\n",
       "      <td>True</td>\n",
       "      <td>miniature_pinscher</td>\n",
       "      <td>0.074192</td>\n",
       "      <td>True</td>\n",
       "      <td>Rhodesian_ridgeback</td>\n",
       "      <td>0.072010</td>\n",
       "      <td>True</td>\n",
       "    </tr>\n",
       "    <tr>\n",
       "      <th>2</th>\n",
       "      <td>666033412701032449</td>\n",
       "      <td>https://pbs.twimg.com/media/CT4521TWwAEvMyu.jpg</td>\n",
       "      <td>1</td>\n",
       "      <td>German_shepherd</td>\n",
       "      <td>0.596461</td>\n",
       "      <td>True</td>\n",
       "      <td>malinois</td>\n",
       "      <td>0.138584</td>\n",
       "      <td>True</td>\n",
       "      <td>bloodhound</td>\n",
       "      <td>0.116197</td>\n",
       "      <td>True</td>\n",
       "    </tr>\n",
       "    <tr>\n",
       "      <th>3</th>\n",
       "      <td>666044226329800704</td>\n",
       "      <td>https://pbs.twimg.com/media/CT5Dr8HUEAA-lEu.jpg</td>\n",
       "      <td>1</td>\n",
       "      <td>Rhodesian_ridgeback</td>\n",
       "      <td>0.408143</td>\n",
       "      <td>True</td>\n",
       "      <td>redbone</td>\n",
       "      <td>0.360687</td>\n",
       "      <td>True</td>\n",
       "      <td>miniature_pinscher</td>\n",
       "      <td>0.222752</td>\n",
       "      <td>True</td>\n",
       "    </tr>\n",
       "    <tr>\n",
       "      <th>4</th>\n",
       "      <td>666049248165822465</td>\n",
       "      <td>https://pbs.twimg.com/media/CT5IQmsXIAAKY4A.jpg</td>\n",
       "      <td>1</td>\n",
       "      <td>miniature_pinscher</td>\n",
       "      <td>0.560311</td>\n",
       "      <td>True</td>\n",
       "      <td>Rottweiler</td>\n",
       "      <td>0.243682</td>\n",
       "      <td>True</td>\n",
       "      <td>Doberman</td>\n",
       "      <td>0.154629</td>\n",
       "      <td>True</td>\n",
       "    </tr>\n",
       "  </tbody>\n",
       "</table>\n",
       "</div>"
      ],
      "text/plain": [
       "             tweet_id                                          jpg_url  \\\n",
       "0  666020888022790149  https://pbs.twimg.com/media/CT4udn0WwAA0aMy.jpg   \n",
       "1  666029285002620928  https://pbs.twimg.com/media/CT42GRgUYAA5iDo.jpg   \n",
       "2  666033412701032449  https://pbs.twimg.com/media/CT4521TWwAEvMyu.jpg   \n",
       "3  666044226329800704  https://pbs.twimg.com/media/CT5Dr8HUEAA-lEu.jpg   \n",
       "4  666049248165822465  https://pbs.twimg.com/media/CT5IQmsXIAAKY4A.jpg   \n",
       "\n",
       "   img_num                      p1   p1_conf  p1_dog                  p2  \\\n",
       "0        1  Welsh_springer_spaniel  0.465074    True              collie   \n",
       "1        1                 redbone  0.506826    True  miniature_pinscher   \n",
       "2        1         German_shepherd  0.596461    True            malinois   \n",
       "3        1     Rhodesian_ridgeback  0.408143    True             redbone   \n",
       "4        1      miniature_pinscher  0.560311    True          Rottweiler   \n",
       "\n",
       "    p2_conf  p2_dog                   p3   p3_conf  p3_dog  \n",
       "0  0.156665    True    Shetland_sheepdog  0.061428    True  \n",
       "1  0.074192    True  Rhodesian_ridgeback  0.072010    True  \n",
       "2  0.138584    True           bloodhound  0.116197    True  \n",
       "3  0.360687    True   miniature_pinscher  0.222752    True  \n",
       "4  0.243682    True             Doberman  0.154629    True  "
      ]
     },
     "execution_count": 27,
     "metadata": {},
     "output_type": "execute_result"
    }
   ],
   "source": [
    "data_tsv.head()"
   ]
  },
  {
   "cell_type": "code",
   "execution_count": 28,
   "id": "bd3e27c1",
   "metadata": {},
   "outputs": [
    {
     "name": "stdout",
     "output_type": "stream",
     "text": [
      "<class 'pandas.core.frame.DataFrame'>\n",
      "RangeIndex: 2075 entries, 0 to 2074\n",
      "Data columns (total 12 columns):\n",
      " #   Column    Non-Null Count  Dtype  \n",
      "---  ------    --------------  -----  \n",
      " 0   tweet_id  2075 non-null   int64  \n",
      " 1   jpg_url   2075 non-null   object \n",
      " 2   img_num   2075 non-null   int64  \n",
      " 3   p1        2075 non-null   object \n",
      " 4   p1_conf   2075 non-null   float64\n",
      " 5   p1_dog    2075 non-null   bool   \n",
      " 6   p2        2075 non-null   object \n",
      " 7   p2_conf   2075 non-null   float64\n",
      " 8   p2_dog    2075 non-null   bool   \n",
      " 9   p3        2075 non-null   object \n",
      " 10  p3_conf   2075 non-null   float64\n",
      " 11  p3_dog    2075 non-null   bool   \n",
      "dtypes: bool(3), float64(3), int64(2), object(4)\n",
      "memory usage: 152.1+ KB\n"
     ]
    }
   ],
   "source": [
    "data_tsv.info()"
   ]
  },
  {
   "cell_type": "markdown",
   "id": "d9785940",
   "metadata": {},
   "source": [
    "#### 2- Assess Data."
   ]
  },
  {
   "cell_type": "markdown",
   "id": "632621ac",
   "metadata": {},
   "source": [
    "##### -Tidiness\n",
    "In this data, all three conditions are fulfilled in the columns that I use it in the analysis.\n",
    "   - Each variable forms a column.\n",
    "   - Each observation forms a row.\n",
    "   - Each type of observational unit forms a table."
   ]
  },
  {
   "cell_type": "code",
   "execution_count": 29,
   "id": "34e33298",
   "metadata": {},
   "outputs": [],
   "source": [
    "# - Quality:\n",
    "## Remove Duplicates:\n",
    "data_tsv.drop_duplicates(subset=\"tweet_id\",\n",
    "                    keep = False , inplace = True)"
   ]
  },
  {
   "cell_type": "code",
   "execution_count": 30,
   "id": "7e26fcfb",
   "metadata": {},
   "outputs": [
    {
     "name": "stdout",
     "output_type": "stream",
     "text": [
      "<class 'pandas.core.frame.DataFrame'>\n",
      "Int64Index: 2075 entries, 0 to 2074\n",
      "Data columns (total 12 columns):\n",
      " #   Column    Non-Null Count  Dtype  \n",
      "---  ------    --------------  -----  \n",
      " 0   tweet_id  2075 non-null   int64  \n",
      " 1   jpg_url   2075 non-null   object \n",
      " 2   img_num   2075 non-null   int64  \n",
      " 3   p1        2075 non-null   object \n",
      " 4   p1_conf   2075 non-null   float64\n",
      " 5   p1_dog    2075 non-null   bool   \n",
      " 6   p2        2075 non-null   object \n",
      " 7   p2_conf   2075 non-null   float64\n",
      " 8   p2_dog    2075 non-null   bool   \n",
      " 9   p3        2075 non-null   object \n",
      " 10  p3_conf   2075 non-null   float64\n",
      " 11  p3_dog    2075 non-null   bool   \n",
      "dtypes: bool(3), float64(3), int64(2), object(4)\n",
      "memory usage: 168.2+ KB\n"
     ]
    }
   ],
   "source": [
    "data_tsv.info()"
   ]
  },
  {
   "cell_type": "markdown",
   "id": "bd1d710e",
   "metadata": {},
   "source": [
    "##### No duplication in the variable \" tweet_id \" "
   ]
  },
  {
   "cell_type": "code",
   "execution_count": 31,
   "id": "8d4bd187",
   "metadata": {},
   "outputs": [
    {
     "name": "stdout",
     "output_type": "stream",
     "text": [
      "tweet_id    0\n",
      "jpg_url     0\n",
      "img_num     0\n",
      "p1          0\n",
      "p1_conf     0\n",
      "p1_dog      0\n",
      "p2          0\n",
      "p2_conf     0\n",
      "p2_dog      0\n",
      "p3          0\n",
      "p3_conf     0\n",
      "p3_dog      0\n",
      "dtype: int64\n"
     ]
    }
   ],
   "source": [
    "## Missing Values:\n",
    "print(data_tsv.isnull().sum())"
   ]
  },
  {
   "cell_type": "markdown",
   "id": "b895b371",
   "metadata": {},
   "source": [
    "#####  No Missing value in the variable \" tweet_id \" "
   ]
  },
  {
   "cell_type": "markdown",
   "id": "05fde4ee",
   "metadata": {},
   "source": [
    "#### 3- Clean Data."
   ]
  },
  {
   "cell_type": "code",
   "execution_count": 32,
   "id": "b82e65e4",
   "metadata": {},
   "outputs": [],
   "source": [
    "data_tsv_copy = data_tsv.copy()"
   ]
  },
  {
   "cell_type": "markdown",
   "id": "f63a7a2a",
   "metadata": {},
   "source": [
    "##### 1- Difine:\n",
    "1- Replace True and False to 1 and 0 in p1_dog column.\n",
    "\n",
    "2- Rename column \"tweet_id\" to \"ID\" and column \"p1_dog\" to \"Is_It_Dog?\".\n",
    "\n",
    "3- Delete all column we dont use it \"jpg_url, img_num, p1, p2, p3, p1_conf, p2_conf, p3_conf, p2_dog, p3_dog\""
   ]
  },
  {
   "cell_type": "markdown",
   "id": "60e3cd01",
   "metadata": {},
   "source": [
    "##### 2- Code:"
   ]
  },
  {
   "cell_type": "code",
   "execution_count": 33,
   "id": "c1cd91d7",
   "metadata": {},
   "outputs": [],
   "source": [
    "# 1- Replace True and False in p1_dog column:\n",
    "data_tsv_copy['p1_dog'].replace({True:1,False:0},inplace=True)"
   ]
  },
  {
   "cell_type": "code",
   "execution_count": 34,
   "id": "8ef14862",
   "metadata": {},
   "outputs": [],
   "source": [
    "# 2- Rename column \"tweet_id\" to \"ID\" and column \"p1_dog\" to \"Is_It_Dog?\":\n",
    "data_tsv_copy = data_tsv_copy.rename(columns = {'tweet_id': 'ID', 'p1_dog': 'Is_It_Dog?'}, inplace = False)"
   ]
  },
  {
   "cell_type": "code",
   "execution_count": 35,
   "id": "0bb00be0",
   "metadata": {},
   "outputs": [],
   "source": [
    "# 3- Delete all column we dont use it \"jpg_url, img_num, p1, p2, p3, p1_conf, p2_conf, p3_conf, p2_dog, p3_dog\":\n",
    "data_tsv_copy.drop(['jpg_url', 'img_num', 'p1', 'p2', 'p3', 'p1_conf', 'p2_conf',\n",
    "               'p3_conf', 'p2_dog', 'p3_dog'], axis=1, inplace=True)"
   ]
  },
  {
   "cell_type": "markdown",
   "id": "ad39c8f5",
   "metadata": {},
   "source": [
    "##### 3- Test:"
   ]
  },
  {
   "cell_type": "code",
   "execution_count": 36,
   "id": "7273ec22",
   "metadata": {},
   "outputs": [
    {
     "data": {
      "text/html": [
       "<div>\n",
       "<style scoped>\n",
       "    .dataframe tbody tr th:only-of-type {\n",
       "        vertical-align: middle;\n",
       "    }\n",
       "\n",
       "    .dataframe tbody tr th {\n",
       "        vertical-align: top;\n",
       "    }\n",
       "\n",
       "    .dataframe thead th {\n",
       "        text-align: right;\n",
       "    }\n",
       "</style>\n",
       "<table border=\"1\" class=\"dataframe\">\n",
       "  <thead>\n",
       "    <tr style=\"text-align: right;\">\n",
       "      <th></th>\n",
       "      <th>ID</th>\n",
       "      <th>Is_It_Dog?</th>\n",
       "    </tr>\n",
       "  </thead>\n",
       "  <tbody>\n",
       "    <tr>\n",
       "      <th>0</th>\n",
       "      <td>666020888022790149</td>\n",
       "      <td>1</td>\n",
       "    </tr>\n",
       "    <tr>\n",
       "      <th>1</th>\n",
       "      <td>666029285002620928</td>\n",
       "      <td>1</td>\n",
       "    </tr>\n",
       "    <tr>\n",
       "      <th>2</th>\n",
       "      <td>666033412701032449</td>\n",
       "      <td>1</td>\n",
       "    </tr>\n",
       "    <tr>\n",
       "      <th>3</th>\n",
       "      <td>666044226329800704</td>\n",
       "      <td>1</td>\n",
       "    </tr>\n",
       "    <tr>\n",
       "      <th>4</th>\n",
       "      <td>666049248165822465</td>\n",
       "      <td>1</td>\n",
       "    </tr>\n",
       "  </tbody>\n",
       "</table>\n",
       "</div>"
      ],
      "text/plain": [
       "                   ID  Is_It_Dog?\n",
       "0  666020888022790149           1\n",
       "1  666029285002620928           1\n",
       "2  666033412701032449           1\n",
       "3  666044226329800704           1\n",
       "4  666049248165822465           1"
      ]
     },
     "execution_count": 36,
     "metadata": {},
     "output_type": "execute_result"
    }
   ],
   "source": [
    "data_tsv_copy.head()"
   ]
  },
  {
   "cell_type": "markdown",
   "id": "5e9d7d7a",
   "metadata": {},
   "source": [
    "***From the above mentioned table, we modified the names of columns, unimportant columns have been deleted, also, we replaced the he columns (Is_It_Dog?).***"
   ]
  },
  {
   "cell_type": "markdown",
   "id": "4ae66f7f",
   "metadata": {},
   "source": [
    "### TXT File.\n",
    "#### 1- Gathering Data."
   ]
  },
  {
   "cell_type": "code",
   "execution_count": 37,
   "id": "c39a4923",
   "metadata": {},
   "outputs": [],
   "source": [
    "# install data in text file \n",
    "data_txt = pd.read_json('/Users/btool/Downloads/Project4/tweet-json.txt',lines=True)"
   ]
  },
  {
   "cell_type": "code",
   "execution_count": 38,
   "id": "46ab1df0",
   "metadata": {},
   "outputs": [
    {
     "data": {
      "text/html": [
       "<div>\n",
       "<style scoped>\n",
       "    .dataframe tbody tr th:only-of-type {\n",
       "        vertical-align: middle;\n",
       "    }\n",
       "\n",
       "    .dataframe tbody tr th {\n",
       "        vertical-align: top;\n",
       "    }\n",
       "\n",
       "    .dataframe thead th {\n",
       "        text-align: right;\n",
       "    }\n",
       "</style>\n",
       "<table border=\"1\" class=\"dataframe\">\n",
       "  <thead>\n",
       "    <tr style=\"text-align: right;\">\n",
       "      <th></th>\n",
       "      <th>created_at</th>\n",
       "      <th>id</th>\n",
       "      <th>id_str</th>\n",
       "      <th>full_text</th>\n",
       "      <th>truncated</th>\n",
       "      <th>display_text_range</th>\n",
       "      <th>entities</th>\n",
       "      <th>extended_entities</th>\n",
       "      <th>source</th>\n",
       "      <th>in_reply_to_status_id</th>\n",
       "      <th>...</th>\n",
       "      <th>favorite_count</th>\n",
       "      <th>favorited</th>\n",
       "      <th>retweeted</th>\n",
       "      <th>possibly_sensitive</th>\n",
       "      <th>possibly_sensitive_appealable</th>\n",
       "      <th>lang</th>\n",
       "      <th>retweeted_status</th>\n",
       "      <th>quoted_status_id</th>\n",
       "      <th>quoted_status_id_str</th>\n",
       "      <th>quoted_status</th>\n",
       "    </tr>\n",
       "  </thead>\n",
       "  <tbody>\n",
       "    <tr>\n",
       "      <th>0</th>\n",
       "      <td>2017-08-01 16:23:56+00:00</td>\n",
       "      <td>892420643555336193</td>\n",
       "      <td>892420643555336192</td>\n",
       "      <td>This is Phineas. He's a mystical boy. Only eve...</td>\n",
       "      <td>False</td>\n",
       "      <td>[0, 85]</td>\n",
       "      <td>{'hashtags': [], 'symbols': [], 'user_mentions...</td>\n",
       "      <td>{'media': [{'id': 892420639486877696, 'id_str'...</td>\n",
       "      <td>&lt;a href=\"http://twitter.com/download/iphone\" r...</td>\n",
       "      <td>NaN</td>\n",
       "      <td>...</td>\n",
       "      <td>39467</td>\n",
       "      <td>False</td>\n",
       "      <td>False</td>\n",
       "      <td>0.0</td>\n",
       "      <td>0.0</td>\n",
       "      <td>en</td>\n",
       "      <td>NaN</td>\n",
       "      <td>NaN</td>\n",
       "      <td>NaN</td>\n",
       "      <td>NaN</td>\n",
       "    </tr>\n",
       "    <tr>\n",
       "      <th>1</th>\n",
       "      <td>2017-08-01 00:17:27+00:00</td>\n",
       "      <td>892177421306343426</td>\n",
       "      <td>892177421306343424</td>\n",
       "      <td>This is Tilly. She's just checking pup on you....</td>\n",
       "      <td>False</td>\n",
       "      <td>[0, 138]</td>\n",
       "      <td>{'hashtags': [], 'symbols': [], 'user_mentions...</td>\n",
       "      <td>{'media': [{'id': 892177413194625024, 'id_str'...</td>\n",
       "      <td>&lt;a href=\"http://twitter.com/download/iphone\" r...</td>\n",
       "      <td>NaN</td>\n",
       "      <td>...</td>\n",
       "      <td>33819</td>\n",
       "      <td>False</td>\n",
       "      <td>False</td>\n",
       "      <td>0.0</td>\n",
       "      <td>0.0</td>\n",
       "      <td>en</td>\n",
       "      <td>NaN</td>\n",
       "      <td>NaN</td>\n",
       "      <td>NaN</td>\n",
       "      <td>NaN</td>\n",
       "    </tr>\n",
       "    <tr>\n",
       "      <th>2</th>\n",
       "      <td>2017-07-31 00:18:03+00:00</td>\n",
       "      <td>891815181378084864</td>\n",
       "      <td>891815181378084864</td>\n",
       "      <td>This is Archie. He is a rare Norwegian Pouncin...</td>\n",
       "      <td>False</td>\n",
       "      <td>[0, 121]</td>\n",
       "      <td>{'hashtags': [], 'symbols': [], 'user_mentions...</td>\n",
       "      <td>{'media': [{'id': 891815175371796480, 'id_str'...</td>\n",
       "      <td>&lt;a href=\"http://twitter.com/download/iphone\" r...</td>\n",
       "      <td>NaN</td>\n",
       "      <td>...</td>\n",
       "      <td>25461</td>\n",
       "      <td>False</td>\n",
       "      <td>False</td>\n",
       "      <td>0.0</td>\n",
       "      <td>0.0</td>\n",
       "      <td>en</td>\n",
       "      <td>NaN</td>\n",
       "      <td>NaN</td>\n",
       "      <td>NaN</td>\n",
       "      <td>NaN</td>\n",
       "    </tr>\n",
       "    <tr>\n",
       "      <th>3</th>\n",
       "      <td>2017-07-30 15:58:51+00:00</td>\n",
       "      <td>891689557279858688</td>\n",
       "      <td>891689557279858688</td>\n",
       "      <td>This is Darla. She commenced a snooze mid meal...</td>\n",
       "      <td>False</td>\n",
       "      <td>[0, 79]</td>\n",
       "      <td>{'hashtags': [], 'symbols': [], 'user_mentions...</td>\n",
       "      <td>{'media': [{'id': 891689552724799489, 'id_str'...</td>\n",
       "      <td>&lt;a href=\"http://twitter.com/download/iphone\" r...</td>\n",
       "      <td>NaN</td>\n",
       "      <td>...</td>\n",
       "      <td>42908</td>\n",
       "      <td>False</td>\n",
       "      <td>False</td>\n",
       "      <td>0.0</td>\n",
       "      <td>0.0</td>\n",
       "      <td>en</td>\n",
       "      <td>NaN</td>\n",
       "      <td>NaN</td>\n",
       "      <td>NaN</td>\n",
       "      <td>NaN</td>\n",
       "    </tr>\n",
       "    <tr>\n",
       "      <th>4</th>\n",
       "      <td>2017-07-29 16:00:24+00:00</td>\n",
       "      <td>891327558926688256</td>\n",
       "      <td>891327558926688256</td>\n",
       "      <td>This is Franklin. He would like you to stop ca...</td>\n",
       "      <td>False</td>\n",
       "      <td>[0, 138]</td>\n",
       "      <td>{'hashtags': [{'text': 'BarkWeek', 'indices': ...</td>\n",
       "      <td>{'media': [{'id': 891327551943041024, 'id_str'...</td>\n",
       "      <td>&lt;a href=\"http://twitter.com/download/iphone\" r...</td>\n",
       "      <td>NaN</td>\n",
       "      <td>...</td>\n",
       "      <td>41048</td>\n",
       "      <td>False</td>\n",
       "      <td>False</td>\n",
       "      <td>0.0</td>\n",
       "      <td>0.0</td>\n",
       "      <td>en</td>\n",
       "      <td>NaN</td>\n",
       "      <td>NaN</td>\n",
       "      <td>NaN</td>\n",
       "      <td>NaN</td>\n",
       "    </tr>\n",
       "  </tbody>\n",
       "</table>\n",
       "<p>5 rows × 31 columns</p>\n",
       "</div>"
      ],
      "text/plain": [
       "                 created_at                  id              id_str  \\\n",
       "0 2017-08-01 16:23:56+00:00  892420643555336193  892420643555336192   \n",
       "1 2017-08-01 00:17:27+00:00  892177421306343426  892177421306343424   \n",
       "2 2017-07-31 00:18:03+00:00  891815181378084864  891815181378084864   \n",
       "3 2017-07-30 15:58:51+00:00  891689557279858688  891689557279858688   \n",
       "4 2017-07-29 16:00:24+00:00  891327558926688256  891327558926688256   \n",
       "\n",
       "                                           full_text  truncated  \\\n",
       "0  This is Phineas. He's a mystical boy. Only eve...      False   \n",
       "1  This is Tilly. She's just checking pup on you....      False   \n",
       "2  This is Archie. He is a rare Norwegian Pouncin...      False   \n",
       "3  This is Darla. She commenced a snooze mid meal...      False   \n",
       "4  This is Franklin. He would like you to stop ca...      False   \n",
       "\n",
       "  display_text_range                                           entities  \\\n",
       "0            [0, 85]  {'hashtags': [], 'symbols': [], 'user_mentions...   \n",
       "1           [0, 138]  {'hashtags': [], 'symbols': [], 'user_mentions...   \n",
       "2           [0, 121]  {'hashtags': [], 'symbols': [], 'user_mentions...   \n",
       "3            [0, 79]  {'hashtags': [], 'symbols': [], 'user_mentions...   \n",
       "4           [0, 138]  {'hashtags': [{'text': 'BarkWeek', 'indices': ...   \n",
       "\n",
       "                                   extended_entities  \\\n",
       "0  {'media': [{'id': 892420639486877696, 'id_str'...   \n",
       "1  {'media': [{'id': 892177413194625024, 'id_str'...   \n",
       "2  {'media': [{'id': 891815175371796480, 'id_str'...   \n",
       "3  {'media': [{'id': 891689552724799489, 'id_str'...   \n",
       "4  {'media': [{'id': 891327551943041024, 'id_str'...   \n",
       "\n",
       "                                              source  in_reply_to_status_id  \\\n",
       "0  <a href=\"http://twitter.com/download/iphone\" r...                    NaN   \n",
       "1  <a href=\"http://twitter.com/download/iphone\" r...                    NaN   \n",
       "2  <a href=\"http://twitter.com/download/iphone\" r...                    NaN   \n",
       "3  <a href=\"http://twitter.com/download/iphone\" r...                    NaN   \n",
       "4  <a href=\"http://twitter.com/download/iphone\" r...                    NaN   \n",
       "\n",
       "   ...  favorite_count  favorited  retweeted possibly_sensitive  \\\n",
       "0  ...           39467      False      False                0.0   \n",
       "1  ...           33819      False      False                0.0   \n",
       "2  ...           25461      False      False                0.0   \n",
       "3  ...           42908      False      False                0.0   \n",
       "4  ...           41048      False      False                0.0   \n",
       "\n",
       "  possibly_sensitive_appealable  lang  retweeted_status quoted_status_id  \\\n",
       "0                           0.0    en               NaN              NaN   \n",
       "1                           0.0    en               NaN              NaN   \n",
       "2                           0.0    en               NaN              NaN   \n",
       "3                           0.0    en               NaN              NaN   \n",
       "4                           0.0    en               NaN              NaN   \n",
       "\n",
       "   quoted_status_id_str  quoted_status  \n",
       "0                   NaN            NaN  \n",
       "1                   NaN            NaN  \n",
       "2                   NaN            NaN  \n",
       "3                   NaN            NaN  \n",
       "4                   NaN            NaN  \n",
       "\n",
       "[5 rows x 31 columns]"
      ]
     },
     "execution_count": 38,
     "metadata": {},
     "output_type": "execute_result"
    }
   ],
   "source": [
    "data_txt.head()"
   ]
  },
  {
   "cell_type": "code",
   "execution_count": 39,
   "id": "105202dd",
   "metadata": {},
   "outputs": [
    {
     "name": "stdout",
     "output_type": "stream",
     "text": [
      "<class 'pandas.core.frame.DataFrame'>\n",
      "RangeIndex: 2354 entries, 0 to 2353\n",
      "Data columns (total 31 columns):\n",
      " #   Column                         Non-Null Count  Dtype              \n",
      "---  ------                         --------------  -----              \n",
      " 0   created_at                     2354 non-null   datetime64[ns, UTC]\n",
      " 1   id                             2354 non-null   int64              \n",
      " 2   id_str                         2354 non-null   int64              \n",
      " 3   full_text                      2354 non-null   object             \n",
      " 4   truncated                      2354 non-null   bool               \n",
      " 5   display_text_range             2354 non-null   object             \n",
      " 6   entities                       2354 non-null   object             \n",
      " 7   extended_entities              2073 non-null   object             \n",
      " 8   source                         2354 non-null   object             \n",
      " 9   in_reply_to_status_id          78 non-null     float64            \n",
      " 10  in_reply_to_status_id_str      78 non-null     float64            \n",
      " 11  in_reply_to_user_id            78 non-null     float64            \n",
      " 12  in_reply_to_user_id_str        78 non-null     float64            \n",
      " 13  in_reply_to_screen_name        78 non-null     object             \n",
      " 14  user                           2354 non-null   object             \n",
      " 15  geo                            0 non-null      float64            \n",
      " 16  coordinates                    0 non-null      float64            \n",
      " 17  place                          1 non-null      object             \n",
      " 18  contributors                   0 non-null      float64            \n",
      " 19  is_quote_status                2354 non-null   bool               \n",
      " 20  retweet_count                  2354 non-null   int64              \n",
      " 21  favorite_count                 2354 non-null   int64              \n",
      " 22  favorited                      2354 non-null   bool               \n",
      " 23  retweeted                      2354 non-null   bool               \n",
      " 24  possibly_sensitive             2211 non-null   float64            \n",
      " 25  possibly_sensitive_appealable  2211 non-null   float64            \n",
      " 26  lang                           2354 non-null   object             \n",
      " 27  retweeted_status               179 non-null    object             \n",
      " 28  quoted_status_id               29 non-null     float64            \n",
      " 29  quoted_status_id_str           29 non-null     float64            \n",
      " 30  quoted_status                  28 non-null     object             \n",
      "dtypes: bool(4), datetime64[ns, UTC](1), float64(11), int64(4), object(11)\n",
      "memory usage: 505.9+ KB\n"
     ]
    }
   ],
   "source": [
    "data_txt.info()"
   ]
  },
  {
   "cell_type": "markdown",
   "id": "f92d0279",
   "metadata": {},
   "source": [
    "#### 2- Assess Data."
   ]
  },
  {
   "cell_type": "markdown",
   "id": "1b563bdd",
   "metadata": {},
   "source": [
    "#### -Tidiness\n",
    "In this data, all three conditions are fulfilled in the columns that I use it in the analysis.\n",
    "   - Each variable forms a column.\n",
    "   - Each observation forms a row.\n",
    "   - Each type of observational unit forms a table."
   ]
  },
  {
   "cell_type": "code",
   "execution_count": 40,
   "id": "7c040c82",
   "metadata": {},
   "outputs": [],
   "source": [
    "# - Quality:\n",
    "## Remove Duplicates:\n",
    "data_txt.drop_duplicates(subset=\"id\",\n",
    "                    keep = False , inplace = True)"
   ]
  },
  {
   "cell_type": "code",
   "execution_count": 41,
   "id": "04d210dd",
   "metadata": {},
   "outputs": [
    {
     "name": "stdout",
     "output_type": "stream",
     "text": [
      "<class 'pandas.core.frame.DataFrame'>\n",
      "Int64Index: 2354 entries, 0 to 2353\n",
      "Data columns (total 31 columns):\n",
      " #   Column                         Non-Null Count  Dtype              \n",
      "---  ------                         --------------  -----              \n",
      " 0   created_at                     2354 non-null   datetime64[ns, UTC]\n",
      " 1   id                             2354 non-null   int64              \n",
      " 2   id_str                         2354 non-null   int64              \n",
      " 3   full_text                      2354 non-null   object             \n",
      " 4   truncated                      2354 non-null   bool               \n",
      " 5   display_text_range             2354 non-null   object             \n",
      " 6   entities                       2354 non-null   object             \n",
      " 7   extended_entities              2073 non-null   object             \n",
      " 8   source                         2354 non-null   object             \n",
      " 9   in_reply_to_status_id          78 non-null     float64            \n",
      " 10  in_reply_to_status_id_str      78 non-null     float64            \n",
      " 11  in_reply_to_user_id            78 non-null     float64            \n",
      " 12  in_reply_to_user_id_str        78 non-null     float64            \n",
      " 13  in_reply_to_screen_name        78 non-null     object             \n",
      " 14  user                           2354 non-null   object             \n",
      " 15  geo                            0 non-null      float64            \n",
      " 16  coordinates                    0 non-null      float64            \n",
      " 17  place                          1 non-null      object             \n",
      " 18  contributors                   0 non-null      float64            \n",
      " 19  is_quote_status                2354 non-null   bool               \n",
      " 20  retweet_count                  2354 non-null   int64              \n",
      " 21  favorite_count                 2354 non-null   int64              \n",
      " 22  favorited                      2354 non-null   bool               \n",
      " 23  retweeted                      2354 non-null   bool               \n",
      " 24  possibly_sensitive             2211 non-null   float64            \n",
      " 25  possibly_sensitive_appealable  2211 non-null   float64            \n",
      " 26  lang                           2354 non-null   object             \n",
      " 27  retweeted_status               179 non-null    object             \n",
      " 28  quoted_status_id               29 non-null     float64            \n",
      " 29  quoted_status_id_str           29 non-null     float64            \n",
      " 30  quoted_status                  28 non-null     object             \n",
      "dtypes: bool(4), datetime64[ns, UTC](1), float64(11), int64(4), object(11)\n",
      "memory usage: 524.1+ KB\n"
     ]
    }
   ],
   "source": [
    "data_txt.info()"
   ]
  },
  {
   "cell_type": "markdown",
   "id": "214012c1",
   "metadata": {},
   "source": [
    "##### No duplication in the variable \" id \" "
   ]
  },
  {
   "cell_type": "code",
   "execution_count": 42,
   "id": "94045d32",
   "metadata": {},
   "outputs": [
    {
     "name": "stdout",
     "output_type": "stream",
     "text": [
      "created_at                          0\n",
      "id                                  0\n",
      "id_str                              0\n",
      "full_text                           0\n",
      "truncated                           0\n",
      "display_text_range                  0\n",
      "entities                            0\n",
      "extended_entities                 281\n",
      "source                              0\n",
      "in_reply_to_status_id            2276\n",
      "in_reply_to_status_id_str        2276\n",
      "in_reply_to_user_id              2276\n",
      "in_reply_to_user_id_str          2276\n",
      "in_reply_to_screen_name          2276\n",
      "user                                0\n",
      "geo                              2354\n",
      "coordinates                      2354\n",
      "place                            2353\n",
      "contributors                     2354\n",
      "is_quote_status                     0\n",
      "retweet_count                       0\n",
      "favorite_count                      0\n",
      "favorited                           0\n",
      "retweeted                           0\n",
      "possibly_sensitive                143\n",
      "possibly_sensitive_appealable     143\n",
      "lang                                0\n",
      "retweeted_status                 2175\n",
      "quoted_status_id                 2325\n",
      "quoted_status_id_str             2325\n",
      "quoted_status                    2326\n",
      "dtype: int64\n"
     ]
    }
   ],
   "source": [
    "## Missing Values:\n",
    "print(data_txt.isnull().sum())"
   ]
  },
  {
   "cell_type": "markdown",
   "id": "d7e03d04",
   "metadata": {},
   "source": [
    "***As we can observe, there are missing values in some columns***\n",
    "\n",
    "***But looking at the actual value of the missing data, we can say that it is not valuable as they are just people’s/ tweet identity*** \n",
    "\n",
    "***In addition, there is the (expanded_entities) value that is also not important, as it only represents tweet’s html which isn’t relevant to us***\n",
    "\n",
    "***That’s why we are not using them.***"
   ]
  },
  {
   "cell_type": "code",
   "execution_count": 43,
   "id": "11e058fc",
   "metadata": {},
   "outputs": [],
   "source": [
    "data_txt.drop(['extended_entities','in_reply_to_status_id','in_reply_to_status_id_str','in_reply_to_user_id',\n",
    "               'in_reply_to_user_id_str','in_reply_to_screen_name','geo','coordinates','place','contributors',\n",
    "               'possibly_sensitive','possibly_sensitive_appealable','retweeted_status','quoted_status_id',\n",
    "               'quoted_status_id_str','quoted_status'], axis=1, inplace=True)"
   ]
  },
  {
   "cell_type": "code",
   "execution_count": 44,
   "id": "4244fb35",
   "metadata": {},
   "outputs": [
    {
     "data": {
      "text/html": [
       "<div>\n",
       "<style scoped>\n",
       "    .dataframe tbody tr th:only-of-type {\n",
       "        vertical-align: middle;\n",
       "    }\n",
       "\n",
       "    .dataframe tbody tr th {\n",
       "        vertical-align: top;\n",
       "    }\n",
       "\n",
       "    .dataframe thead th {\n",
       "        text-align: right;\n",
       "    }\n",
       "</style>\n",
       "<table border=\"1\" class=\"dataframe\">\n",
       "  <thead>\n",
       "    <tr style=\"text-align: right;\">\n",
       "      <th></th>\n",
       "      <th>id</th>\n",
       "      <th>id_str</th>\n",
       "      <th>retweet_count</th>\n",
       "      <th>favorite_count</th>\n",
       "    </tr>\n",
       "  </thead>\n",
       "  <tbody>\n",
       "    <tr>\n",
       "      <th>count</th>\n",
       "      <td>2.354000e+03</td>\n",
       "      <td>2.354000e+03</td>\n",
       "      <td>2354.000000</td>\n",
       "      <td>2354.000000</td>\n",
       "    </tr>\n",
       "    <tr>\n",
       "      <th>mean</th>\n",
       "      <td>7.426978e+17</td>\n",
       "      <td>7.426978e+17</td>\n",
       "      <td>3164.797366</td>\n",
       "      <td>8080.968564</td>\n",
       "    </tr>\n",
       "    <tr>\n",
       "      <th>std</th>\n",
       "      <td>6.852812e+16</td>\n",
       "      <td>6.852812e+16</td>\n",
       "      <td>5284.770364</td>\n",
       "      <td>11814.771334</td>\n",
       "    </tr>\n",
       "    <tr>\n",
       "      <th>min</th>\n",
       "      <td>6.660209e+17</td>\n",
       "      <td>6.660209e+17</td>\n",
       "      <td>0.000000</td>\n",
       "      <td>0.000000</td>\n",
       "    </tr>\n",
       "    <tr>\n",
       "      <th>25%</th>\n",
       "      <td>6.783975e+17</td>\n",
       "      <td>6.783975e+17</td>\n",
       "      <td>624.500000</td>\n",
       "      <td>1415.000000</td>\n",
       "    </tr>\n",
       "    <tr>\n",
       "      <th>50%</th>\n",
       "      <td>7.194596e+17</td>\n",
       "      <td>7.194596e+17</td>\n",
       "      <td>1473.500000</td>\n",
       "      <td>3603.500000</td>\n",
       "    </tr>\n",
       "    <tr>\n",
       "      <th>75%</th>\n",
       "      <td>7.993058e+17</td>\n",
       "      <td>7.993058e+17</td>\n",
       "      <td>3652.000000</td>\n",
       "      <td>10122.250000</td>\n",
       "    </tr>\n",
       "    <tr>\n",
       "      <th>max</th>\n",
       "      <td>8.924206e+17</td>\n",
       "      <td>8.924206e+17</td>\n",
       "      <td>79515.000000</td>\n",
       "      <td>132810.000000</td>\n",
       "    </tr>\n",
       "  </tbody>\n",
       "</table>\n",
       "</div>"
      ],
      "text/plain": [
       "                 id        id_str  retweet_count  favorite_count\n",
       "count  2.354000e+03  2.354000e+03    2354.000000     2354.000000\n",
       "mean   7.426978e+17  7.426978e+17    3164.797366     8080.968564\n",
       "std    6.852812e+16  6.852812e+16    5284.770364    11814.771334\n",
       "min    6.660209e+17  6.660209e+17       0.000000        0.000000\n",
       "25%    6.783975e+17  6.783975e+17     624.500000     1415.000000\n",
       "50%    7.194596e+17  7.194596e+17    1473.500000     3603.500000\n",
       "75%    7.993058e+17  7.993058e+17    3652.000000    10122.250000\n",
       "max    8.924206e+17  8.924206e+17   79515.000000   132810.000000"
      ]
     },
     "execution_count": 44,
     "metadata": {},
     "output_type": "execute_result"
    }
   ],
   "source": [
    "## Incorrect Data:\n",
    "data_txt.describe()"
   ]
  },
  {
   "cell_type": "markdown",
   "id": "de66a888",
   "metadata": {},
   "source": [
    "##### there are no Incorrect data . "
   ]
  },
  {
   "cell_type": "markdown",
   "id": "bf4320df",
   "metadata": {},
   "source": [
    "#### 3- Clean Data."
   ]
  },
  {
   "cell_type": "code",
   "execution_count": 45,
   "id": "d6c63a43",
   "metadata": {},
   "outputs": [],
   "source": [
    "data_txt_copy = data_txt.copy()"
   ]
  },
  {
   "cell_type": "markdown",
   "id": "8e31f220",
   "metadata": {},
   "source": [
    "##### 1- Difine:\n",
    "1- Rename column \"id\" to \"ID\" and column \"retweet_count\" to \"Num_of_Retweet\" and column \"favorite_count\" to \"Num_of_Favorite\".\n",
    "\n",
    "2- Replacing column \"created_at\" with the \"Hour\" only to perform the appropriate analysis on it.\n",
    "\n",
    "3- Delete columns have two or more variables in the same column we not need it.\n",
    "**Such as :** full_text, user.\n",
    "\n",
    "   - full_text: It contains two variables.\n",
    "\n",
    "   - user: It contains three variables.\n",
    "   \n",
    "4- Delete all column We dont use it \"created_at, id_str, truncated, display_text_range, entities, source, is_quote_status, favorited, retweeted, lang\""
   ]
  },
  {
   "cell_type": "markdown",
   "id": "3637c8dc",
   "metadata": {},
   "source": [
    "##### 2- Code:"
   ]
  },
  {
   "cell_type": "code",
   "execution_count": 46,
   "id": "3481a574",
   "metadata": {},
   "outputs": [],
   "source": [
    "# 1-Rename column \"id\" to \"ID\"and column \"retweet_count\"to\"Num_of_Retweet\" and column \"favorite_count\" to \"Num_of_Favorite\":\n",
    "data_txt_copy = data_txt_copy.rename(columns = {'id': 'ID','retweet_count':'Num_of_Retweet',\n",
    "                                      'favorite_count':'Num_of_Favorite'}, inplace = False)"
   ]
  },
  {
   "cell_type": "code",
   "execution_count": 47,
   "id": "177edecb",
   "metadata": {},
   "outputs": [],
   "source": [
    "# 2- Replacing column \"created_at\" with the \"Hour\" only to perform the appropriate analysis on it:\n",
    "data_txt_copy['created_at'] = pd.to_datetime(data_txt_copy['created_at'])\n",
    "data_txt_copy['Hour']= data_txt_copy['created_at'].dt.hour"
   ]
  },
  {
   "cell_type": "code",
   "execution_count": 48,
   "id": "13cc785d",
   "metadata": {},
   "outputs": [],
   "source": [
    "data_txt_copy.drop(['created_at'], axis=1, inplace=True)"
   ]
  },
  {
   "cell_type": "code",
   "execution_count": 49,
   "id": "5ccb7180",
   "metadata": {},
   "outputs": [],
   "source": [
    "# 3- Delete columns have two or more variables in the same column we not need it.\n",
    "data_txt_copy.drop(['full_text','user'], axis=1, inplace=True)"
   ]
  },
  {
   "cell_type": "code",
   "execution_count": 50,
   "id": "8d73c18a",
   "metadata": {},
   "outputs": [],
   "source": [
    "# 4- Delete all column We dont use it:\n",
    "data_txt_copy.drop(['id_str','truncated','display_text_range','entities','source',\n",
    "               'is_quote_status','favorited','retweeted','lang'], axis=1, inplace=True)"
   ]
  },
  {
   "cell_type": "markdown",
   "id": "f45fdc8f",
   "metadata": {},
   "source": [
    "##### 3- Test:"
   ]
  },
  {
   "cell_type": "code",
   "execution_count": 51,
   "id": "a4486439",
   "metadata": {},
   "outputs": [
    {
     "data": {
      "text/html": [
       "<div>\n",
       "<style scoped>\n",
       "    .dataframe tbody tr th:only-of-type {\n",
       "        vertical-align: middle;\n",
       "    }\n",
       "\n",
       "    .dataframe tbody tr th {\n",
       "        vertical-align: top;\n",
       "    }\n",
       "\n",
       "    .dataframe thead th {\n",
       "        text-align: right;\n",
       "    }\n",
       "</style>\n",
       "<table border=\"1\" class=\"dataframe\">\n",
       "  <thead>\n",
       "    <tr style=\"text-align: right;\">\n",
       "      <th></th>\n",
       "      <th>ID</th>\n",
       "      <th>Num_of_Retweet</th>\n",
       "      <th>Num_of_Favorite</th>\n",
       "      <th>Hour</th>\n",
       "    </tr>\n",
       "  </thead>\n",
       "  <tbody>\n",
       "    <tr>\n",
       "      <th>0</th>\n",
       "      <td>892420643555336193</td>\n",
       "      <td>8853</td>\n",
       "      <td>39467</td>\n",
       "      <td>16</td>\n",
       "    </tr>\n",
       "    <tr>\n",
       "      <th>1</th>\n",
       "      <td>892177421306343426</td>\n",
       "      <td>6514</td>\n",
       "      <td>33819</td>\n",
       "      <td>0</td>\n",
       "    </tr>\n",
       "    <tr>\n",
       "      <th>2</th>\n",
       "      <td>891815181378084864</td>\n",
       "      <td>4328</td>\n",
       "      <td>25461</td>\n",
       "      <td>0</td>\n",
       "    </tr>\n",
       "    <tr>\n",
       "      <th>3</th>\n",
       "      <td>891689557279858688</td>\n",
       "      <td>8964</td>\n",
       "      <td>42908</td>\n",
       "      <td>15</td>\n",
       "    </tr>\n",
       "    <tr>\n",
       "      <th>4</th>\n",
       "      <td>891327558926688256</td>\n",
       "      <td>9774</td>\n",
       "      <td>41048</td>\n",
       "      <td>16</td>\n",
       "    </tr>\n",
       "  </tbody>\n",
       "</table>\n",
       "</div>"
      ],
      "text/plain": [
       "                   ID  Num_of_Retweet  Num_of_Favorite  Hour\n",
       "0  892420643555336193            8853            39467    16\n",
       "1  892177421306343426            6514            33819     0\n",
       "2  891815181378084864            4328            25461     0\n",
       "3  891689557279858688            8964            42908    15\n",
       "4  891327558926688256            9774            41048    16"
      ]
     },
     "execution_count": 51,
     "metadata": {},
     "output_type": "execute_result"
    }
   ],
   "source": [
    "data_txt_copy.head()"
   ]
  },
  {
   "cell_type": "markdown",
   "id": "a0b2406e",
   "metadata": {},
   "source": [
    "##### As we can see from the above table\n",
    "-the name of column ID has been modified\n",
    "\n",
    "-unimportant columns have been deleted\n",
    "\n",
    "-column Hour has been added."
   ]
  },
  {
   "cell_type": "markdown",
   "id": "21864077",
   "metadata": {},
   "source": [
    "### The Merge Table"
   ]
  },
  {
   "cell_type": "code",
   "execution_count": 52,
   "id": "4eca97be",
   "metadata": {},
   "outputs": [],
   "source": [
    "M_Table = pd.merge(data_tsv_copy,data_csv_copy , on='ID' , how ='left')"
   ]
  },
  {
   "cell_type": "code",
   "execution_count": 53,
   "id": "ec0bcfbb",
   "metadata": {},
   "outputs": [
    {
     "data": {
      "text/html": [
       "<div>\n",
       "<style scoped>\n",
       "    .dataframe tbody tr th:only-of-type {\n",
       "        vertical-align: middle;\n",
       "    }\n",
       "\n",
       "    .dataframe tbody tr th {\n",
       "        vertical-align: top;\n",
       "    }\n",
       "\n",
       "    .dataframe thead th {\n",
       "        text-align: right;\n",
       "    }\n",
       "</style>\n",
       "<table border=\"1\" class=\"dataframe\">\n",
       "  <thead>\n",
       "    <tr style=\"text-align: right;\">\n",
       "      <th></th>\n",
       "      <th>ID</th>\n",
       "      <th>Is_It_Dog?</th>\n",
       "      <th>Type_of_Object</th>\n",
       "      <th>Hour</th>\n",
       "      <th>Num_of_Retweet</th>\n",
       "      <th>Num_of_Favorite</th>\n",
       "    </tr>\n",
       "  </thead>\n",
       "  <tbody>\n",
       "    <tr>\n",
       "      <th>0</th>\n",
       "      <td>666020888022790149</td>\n",
       "      <td>1</td>\n",
       "      <td>0</td>\n",
       "      <td>22.0</td>\n",
       "      <td>532.0</td>\n",
       "      <td>2535.0</td>\n",
       "    </tr>\n",
       "    <tr>\n",
       "      <th>1</th>\n",
       "      <td>666029285002620928</td>\n",
       "      <td>1</td>\n",
       "      <td>0</td>\n",
       "      <td>23.0</td>\n",
       "      <td>48.0</td>\n",
       "      <td>132.0</td>\n",
       "    </tr>\n",
       "    <tr>\n",
       "      <th>2</th>\n",
       "      <td>666033412701032449</td>\n",
       "      <td>1</td>\n",
       "      <td>0</td>\n",
       "      <td>23.0</td>\n",
       "      <td>47.0</td>\n",
       "      <td>128.0</td>\n",
       "    </tr>\n",
       "    <tr>\n",
       "      <th>3</th>\n",
       "      <td>666044226329800704</td>\n",
       "      <td>1</td>\n",
       "      <td>0</td>\n",
       "      <td>0.0</td>\n",
       "      <td>147.0</td>\n",
       "      <td>311.0</td>\n",
       "    </tr>\n",
       "    <tr>\n",
       "      <th>4</th>\n",
       "      <td>666049248165822465</td>\n",
       "      <td>1</td>\n",
       "      <td>0</td>\n",
       "      <td>0.0</td>\n",
       "      <td>41.0</td>\n",
       "      <td>111.0</td>\n",
       "    </tr>\n",
       "  </tbody>\n",
       "</table>\n",
       "</div>"
      ],
      "text/plain": [
       "                   ID  Is_It_Dog? Type_of_Object  Hour  Num_of_Retweet  \\\n",
       "0  666020888022790149           1              0  22.0           532.0   \n",
       "1  666029285002620928           1              0  23.0            48.0   \n",
       "2  666033412701032449           1              0  23.0            47.0   \n",
       "3  666044226329800704           1              0   0.0           147.0   \n",
       "4  666049248165822465           1              0   0.0            41.0   \n",
       "\n",
       "   Num_of_Favorite  \n",
       "0           2535.0  \n",
       "1            132.0  \n",
       "2            128.0  \n",
       "3            311.0  \n",
       "4            111.0  "
      ]
     },
     "execution_count": 53,
     "metadata": {},
     "output_type": "execute_result"
    }
   ],
   "source": [
    "Merge_Table = pd.merge(M_Table,data_txt_copy,on=['ID','Hour'],how='left')\n",
    "Merge_Table.head()"
   ]
  },
  {
   "cell_type": "code",
   "execution_count": 54,
   "id": "58db00e2",
   "metadata": {},
   "outputs": [
    {
     "data": {
      "text/html": [
       "<div>\n",
       "<style scoped>\n",
       "    .dataframe tbody tr th:only-of-type {\n",
       "        vertical-align: middle;\n",
       "    }\n",
       "\n",
       "    .dataframe tbody tr th {\n",
       "        vertical-align: top;\n",
       "    }\n",
       "\n",
       "    .dataframe thead th {\n",
       "        text-align: right;\n",
       "    }\n",
       "</style>\n",
       "<table border=\"1\" class=\"dataframe\">\n",
       "  <thead>\n",
       "    <tr style=\"text-align: right;\">\n",
       "      <th></th>\n",
       "      <th>ID</th>\n",
       "      <th>Is_It_Dog?</th>\n",
       "      <th>Type_of_Object</th>\n",
       "      <th>Hour</th>\n",
       "      <th>Num_of_Retweet</th>\n",
       "      <th>Num_of_Favorite</th>\n",
       "    </tr>\n",
       "  </thead>\n",
       "  <tbody>\n",
       "    <tr>\n",
       "      <th>0</th>\n",
       "      <td>666020888022790149</td>\n",
       "      <td>1</td>\n",
       "      <td>0</td>\n",
       "      <td>22.0</td>\n",
       "      <td>532.0</td>\n",
       "      <td>2535.0</td>\n",
       "    </tr>\n",
       "    <tr>\n",
       "      <th>1</th>\n",
       "      <td>666029285002620928</td>\n",
       "      <td>1</td>\n",
       "      <td>0</td>\n",
       "      <td>23.0</td>\n",
       "      <td>48.0</td>\n",
       "      <td>132.0</td>\n",
       "    </tr>\n",
       "    <tr>\n",
       "      <th>2</th>\n",
       "      <td>666033412701032449</td>\n",
       "      <td>1</td>\n",
       "      <td>0</td>\n",
       "      <td>23.0</td>\n",
       "      <td>47.0</td>\n",
       "      <td>128.0</td>\n",
       "    </tr>\n",
       "    <tr>\n",
       "      <th>3</th>\n",
       "      <td>666044226329800704</td>\n",
       "      <td>1</td>\n",
       "      <td>0</td>\n",
       "      <td>0.0</td>\n",
       "      <td>147.0</td>\n",
       "      <td>311.0</td>\n",
       "    </tr>\n",
       "    <tr>\n",
       "      <th>4</th>\n",
       "      <td>666049248165822465</td>\n",
       "      <td>1</td>\n",
       "      <td>0</td>\n",
       "      <td>0.0</td>\n",
       "      <td>41.0</td>\n",
       "      <td>111.0</td>\n",
       "    </tr>\n",
       "  </tbody>\n",
       "</table>\n",
       "</div>"
      ],
      "text/plain": [
       "                   ID  Is_It_Dog? Type_of_Object  Hour  Num_of_Retweet  \\\n",
       "0  666020888022790149           1              0  22.0           532.0   \n",
       "1  666029285002620928           1              0  23.0            48.0   \n",
       "2  666033412701032449           1              0  23.0            47.0   \n",
       "3  666044226329800704           1              0   0.0           147.0   \n",
       "4  666049248165822465           1              0   0.0            41.0   \n",
       "\n",
       "   Num_of_Favorite  \n",
       "0           2535.0  \n",
       "1            132.0  \n",
       "2            128.0  \n",
       "3            311.0  \n",
       "4            111.0  "
      ]
     },
     "execution_count": 54,
     "metadata": {},
     "output_type": "execute_result"
    }
   ],
   "source": [
    "Merge_Table_Copy = Merge_Table.copy()\n",
    "Merge_Table_Copy.head()"
   ]
  },
  {
   "cell_type": "code",
   "execution_count": 55,
   "id": "ca13e5b4",
   "metadata": {},
   "outputs": [
    {
     "name": "stdout",
     "output_type": "stream",
     "text": [
      "<class 'pandas.core.frame.DataFrame'>\n",
      "Int64Index: 2075 entries, 0 to 2074\n",
      "Data columns (total 6 columns):\n",
      " #   Column           Non-Null Count  Dtype  \n",
      "---  ------           --------------  -----  \n",
      " 0   ID               2075 non-null   int64  \n",
      " 1   Is_It_Dog?       2075 non-null   int64  \n",
      " 2   Type_of_Object   1994 non-null   object \n",
      " 3   Hour             1994 non-null   float64\n",
      " 4   Num_of_Retweet   1994 non-null   float64\n",
      " 5   Num_of_Favorite  1994 non-null   float64\n",
      "dtypes: float64(3), int64(2), object(1)\n",
      "memory usage: 113.5+ KB\n"
     ]
    }
   ],
   "source": [
    "Merge_Table_Copy.info()"
   ]
  },
  {
   "cell_type": "markdown",
   "id": "68c5c794",
   "metadata": {},
   "source": [
    "#### 2- Assess Data."
   ]
  },
  {
   "cell_type": "markdown",
   "id": "62f5570b",
   "metadata": {},
   "source": [
    "##### -Tidiness\n",
    "In this data, all three conditions are fulfilled in the columns that We use it in the analysis.\n",
    "   - Each variable forms a column.\n",
    "   - Each observation forms a row.\n",
    "   - Each type of observational unit forms a table."
   ]
  },
  {
   "cell_type": "code",
   "execution_count": 56,
   "id": "2ff8ff99",
   "metadata": {},
   "outputs": [],
   "source": [
    "# - Quality:\n",
    "## Remove Duplicates:\n",
    "Merge_Table_Copy.drop_duplicates(subset=\"ID\",\n",
    "                    keep = False , inplace = True)"
   ]
  },
  {
   "cell_type": "code",
   "execution_count": 57,
   "id": "c684b3ba",
   "metadata": {},
   "outputs": [
    {
     "name": "stdout",
     "output_type": "stream",
     "text": [
      "<class 'pandas.core.frame.DataFrame'>\n",
      "Int64Index: 2075 entries, 0 to 2074\n",
      "Data columns (total 6 columns):\n",
      " #   Column           Non-Null Count  Dtype  \n",
      "---  ------           --------------  -----  \n",
      " 0   ID               2075 non-null   int64  \n",
      " 1   Is_It_Dog?       2075 non-null   int64  \n",
      " 2   Type_of_Object   1994 non-null   object \n",
      " 3   Hour             1994 non-null   float64\n",
      " 4   Num_of_Retweet   1994 non-null   float64\n",
      " 5   Num_of_Favorite  1994 non-null   float64\n",
      "dtypes: float64(3), int64(2), object(1)\n",
      "memory usage: 113.5+ KB\n"
     ]
    }
   ],
   "source": [
    "Merge_Table_Copy.info()"
   ]
  },
  {
   "cell_type": "markdown",
   "id": "3533b695",
   "metadata": {},
   "source": [
    "##### No duplication in the variable \" ID \" "
   ]
  },
  {
   "cell_type": "code",
   "execution_count": 58,
   "id": "d12e98f1",
   "metadata": {},
   "outputs": [
    {
     "name": "stdout",
     "output_type": "stream",
     "text": [
      "ID                  0\n",
      "Is_It_Dog?          0\n",
      "Type_of_Object     81\n",
      "Hour               81\n",
      "Num_of_Retweet     81\n",
      "Num_of_Favorite    81\n",
      "dtype: int64\n"
     ]
    }
   ],
   "source": [
    "## Missing Values:\n",
    "print(Merge_Table_Copy.isnull().sum())"
   ]
  },
  {
   "cell_type": "markdown",
   "id": "77e7e374",
   "metadata": {},
   "source": [
    "***We have four columns that have 81 missing values and we're going to deal with them so that we'll fill them of  the average***"
   ]
  },
  {
   "cell_type": "code",
   "execution_count": 59,
   "id": "f2e89814",
   "metadata": {},
   "outputs": [
    {
     "name": "stderr",
     "output_type": "stream",
     "text": [
      "/var/folders/k5/26ns115j3ksdw2hlyyvfw1580000gn/T/ipykernel_12713/1072243983.py:1: FutureWarning: Dropping of nuisance columns in DataFrame reductions (with 'numeric_only=None') is deprecated; in a future version this will raise TypeError.  Select only valid columns before calling the reduction.\n",
      "  Merge_Table_Copy.mean()\n"
     ]
    },
    {
     "data": {
      "text/plain": [
       "ID                 7.384514e+17\n",
       "Is_It_Dog?         7.383133e-01\n",
       "Hour               9.720160e+00\n",
       "Num_of_Retweet     2.766753e+03\n",
       "Num_of_Favorite    8.895726e+03\n",
       "dtype: float64"
      ]
     },
     "execution_count": 59,
     "metadata": {},
     "output_type": "execute_result"
    }
   ],
   "source": [
    "Merge_Table_Copy.mean()"
   ]
  },
  {
   "cell_type": "code",
   "execution_count": 60,
   "id": "91e8a401",
   "metadata": {},
   "outputs": [
    {
     "name": "stderr",
     "output_type": "stream",
     "text": [
      "/var/folders/k5/26ns115j3ksdw2hlyyvfw1580000gn/T/ipykernel_12713/1317662788.py:1: FutureWarning: Dropping of nuisance columns in DataFrame reductions (with 'numeric_only=None') is deprecated; in a future version this will raise TypeError.  Select only valid columns before calling the reduction.\n",
      "  Merge_Table_Copy = Merge_Table_Copy.fillna(Merge_Table_Copy.mean())\n"
     ]
    }
   ],
   "source": [
    "Merge_Table_Copy = Merge_Table_Copy.fillna(Merge_Table_Copy.mean())"
   ]
  },
  {
   "cell_type": "code",
   "execution_count": 61,
   "id": "6a223b5c",
   "metadata": {},
   "outputs": [
    {
     "name": "stdout",
     "output_type": "stream",
     "text": [
      "ID                  0\n",
      "Is_It_Dog?          0\n",
      "Type_of_Object     81\n",
      "Hour                0\n",
      "Num_of_Retweet      0\n",
      "Num_of_Favorite     0\n",
      "dtype: int64\n"
     ]
    }
   ],
   "source": [
    "print(Merge_Table_Copy.isnull().sum())"
   ]
  },
  {
   "cell_type": "markdown",
   "id": "c728495f",
   "metadata": {},
   "source": [
    "***Now we dont have columns that have missing values, we're fill them of  the average***"
   ]
  },
  {
   "cell_type": "code",
   "execution_count": 62,
   "id": "62d6d8e0",
   "metadata": {},
   "outputs": [
    {
     "data": {
      "text/plain": [
       "ID                 2075\n",
       "Is_It_Dog?            2\n",
       "Type_of_Object        6\n",
       "Hour                 19\n",
       "Num_of_Retweet     1596\n",
       "Num_of_Favorite    1851\n",
       "dtype: int64"
      ]
     },
     "execution_count": 62,
     "metadata": {},
     "output_type": "execute_result"
    }
   ],
   "source": [
    "# Incorrect Data.\n",
    "Merge_Table_Copy.nunique()"
   ]
  },
  {
   "cell_type": "code",
   "execution_count": 63,
   "id": "3c9363be",
   "metadata": {},
   "outputs": [
    {
     "data": {
      "text/html": [
       "<div>\n",
       "<style scoped>\n",
       "    .dataframe tbody tr th:only-of-type {\n",
       "        vertical-align: middle;\n",
       "    }\n",
       "\n",
       "    .dataframe tbody tr th {\n",
       "        vertical-align: top;\n",
       "    }\n",
       "\n",
       "    .dataframe thead th {\n",
       "        text-align: right;\n",
       "    }\n",
       "</style>\n",
       "<table border=\"1\" class=\"dataframe\">\n",
       "  <thead>\n",
       "    <tr style=\"text-align: right;\">\n",
       "      <th></th>\n",
       "      <th>ID</th>\n",
       "      <th>Is_It_Dog?</th>\n",
       "      <th>Hour</th>\n",
       "      <th>Num_of_Retweet</th>\n",
       "      <th>Num_of_Favorite</th>\n",
       "    </tr>\n",
       "  </thead>\n",
       "  <tbody>\n",
       "    <tr>\n",
       "      <th>count</th>\n",
       "      <td>2.075000e+03</td>\n",
       "      <td>2075.000000</td>\n",
       "      <td>2075.000000</td>\n",
       "      <td>2075.000000</td>\n",
       "      <td>2075.000000</td>\n",
       "    </tr>\n",
       "    <tr>\n",
       "      <th>mean</th>\n",
       "      <td>7.384514e+17</td>\n",
       "      <td>0.738313</td>\n",
       "      <td>9.720160</td>\n",
       "      <td>2766.753260</td>\n",
       "      <td>8895.725677</td>\n",
       "    </tr>\n",
       "    <tr>\n",
       "      <th>std</th>\n",
       "      <td>6.785203e+16</td>\n",
       "      <td>0.439659</td>\n",
       "      <td>8.447234</td>\n",
       "      <td>4582.504227</td>\n",
       "      <td>11972.325061</td>\n",
       "    </tr>\n",
       "    <tr>\n",
       "      <th>min</th>\n",
       "      <td>6.660209e+17</td>\n",
       "      <td>0.000000</td>\n",
       "      <td>0.000000</td>\n",
       "      <td>16.000000</td>\n",
       "      <td>81.000000</td>\n",
       "    </tr>\n",
       "    <tr>\n",
       "      <th>25%</th>\n",
       "      <td>6.764835e+17</td>\n",
       "      <td>0.000000</td>\n",
       "      <td>1.000000</td>\n",
       "      <td>651.000000</td>\n",
       "      <td>2074.000000</td>\n",
       "    </tr>\n",
       "    <tr>\n",
       "      <th>50%</th>\n",
       "      <td>7.119988e+17</td>\n",
       "      <td>1.000000</td>\n",
       "      <td>9.720160</td>\n",
       "      <td>1443.000000</td>\n",
       "      <td>4397.000000</td>\n",
       "    </tr>\n",
       "    <tr>\n",
       "      <th>75%</th>\n",
       "      <td>7.932034e+17</td>\n",
       "      <td>1.000000</td>\n",
       "      <td>17.000000</td>\n",
       "      <td>3086.000000</td>\n",
       "      <td>10921.000000</td>\n",
       "    </tr>\n",
       "    <tr>\n",
       "      <th>max</th>\n",
       "      <td>8.924206e+17</td>\n",
       "      <td>1.000000</td>\n",
       "      <td>23.000000</td>\n",
       "      <td>79515.000000</td>\n",
       "      <td>132810.000000</td>\n",
       "    </tr>\n",
       "  </tbody>\n",
       "</table>\n",
       "</div>"
      ],
      "text/plain": [
       "                 ID   Is_It_Dog?         Hour  Num_of_Retweet  Num_of_Favorite\n",
       "count  2.075000e+03  2075.000000  2075.000000     2075.000000      2075.000000\n",
       "mean   7.384514e+17     0.738313     9.720160     2766.753260      8895.725677\n",
       "std    6.785203e+16     0.439659     8.447234     4582.504227     11972.325061\n",
       "min    6.660209e+17     0.000000     0.000000       16.000000        81.000000\n",
       "25%    6.764835e+17     0.000000     1.000000      651.000000      2074.000000\n",
       "50%    7.119988e+17     1.000000     9.720160     1443.000000      4397.000000\n",
       "75%    7.932034e+17     1.000000    17.000000     3086.000000     10921.000000\n",
       "max    8.924206e+17     1.000000    23.000000    79515.000000    132810.000000"
      ]
     },
     "execution_count": 63,
     "metadata": {},
     "output_type": "execute_result"
    }
   ],
   "source": [
    "Merge_Table_Copy.describe()"
   ]
  },
  {
   "cell_type": "markdown",
   "id": "d1ff1761",
   "metadata": {},
   "source": [
    "##### No Incorrect data . \n"
   ]
  },
  {
   "cell_type": "markdown",
   "id": "6051f730",
   "metadata": {},
   "source": [
    "#### 3- Clean Data."
   ]
  },
  {
   "cell_type": "code",
   "execution_count": 64,
   "id": "e391d271",
   "metadata": {},
   "outputs": [
    {
     "data": {
      "text/html": [
       "<div>\n",
       "<style scoped>\n",
       "    .dataframe tbody tr th:only-of-type {\n",
       "        vertical-align: middle;\n",
       "    }\n",
       "\n",
       "    .dataframe tbody tr th {\n",
       "        vertical-align: top;\n",
       "    }\n",
       "\n",
       "    .dataframe thead th {\n",
       "        text-align: right;\n",
       "    }\n",
       "</style>\n",
       "<table border=\"1\" class=\"dataframe\">\n",
       "  <thead>\n",
       "    <tr style=\"text-align: right;\">\n",
       "      <th></th>\n",
       "      <th>ID</th>\n",
       "      <th>Is_It_Dog?</th>\n",
       "      <th>Type_of_Object</th>\n",
       "      <th>Hour</th>\n",
       "      <th>Num_of_Retweet</th>\n",
       "      <th>Num_of_Favorite</th>\n",
       "    </tr>\n",
       "  </thead>\n",
       "  <tbody>\n",
       "    <tr>\n",
       "      <th>0</th>\n",
       "      <td>666020888022790149</td>\n",
       "      <td>1</td>\n",
       "      <td>0</td>\n",
       "      <td>22.0</td>\n",
       "      <td>532.0</td>\n",
       "      <td>2535.0</td>\n",
       "    </tr>\n",
       "    <tr>\n",
       "      <th>1</th>\n",
       "      <td>666029285002620928</td>\n",
       "      <td>1</td>\n",
       "      <td>0</td>\n",
       "      <td>23.0</td>\n",
       "      <td>48.0</td>\n",
       "      <td>132.0</td>\n",
       "    </tr>\n",
       "    <tr>\n",
       "      <th>2</th>\n",
       "      <td>666033412701032449</td>\n",
       "      <td>1</td>\n",
       "      <td>0</td>\n",
       "      <td>23.0</td>\n",
       "      <td>47.0</td>\n",
       "      <td>128.0</td>\n",
       "    </tr>\n",
       "    <tr>\n",
       "      <th>3</th>\n",
       "      <td>666044226329800704</td>\n",
       "      <td>1</td>\n",
       "      <td>0</td>\n",
       "      <td>0.0</td>\n",
       "      <td>147.0</td>\n",
       "      <td>311.0</td>\n",
       "    </tr>\n",
       "    <tr>\n",
       "      <th>4</th>\n",
       "      <td>666049248165822465</td>\n",
       "      <td>1</td>\n",
       "      <td>0</td>\n",
       "      <td>0.0</td>\n",
       "      <td>41.0</td>\n",
       "      <td>111.0</td>\n",
       "    </tr>\n",
       "  </tbody>\n",
       "</table>\n",
       "</div>"
      ],
      "text/plain": [
       "                   ID  Is_It_Dog? Type_of_Object  Hour  Num_of_Retweet  \\\n",
       "0  666020888022790149           1              0  22.0           532.0   \n",
       "1  666029285002620928           1              0  23.0            48.0   \n",
       "2  666033412701032449           1              0  23.0            47.0   \n",
       "3  666044226329800704           1              0   0.0           147.0   \n",
       "4  666049248165822465           1              0   0.0            41.0   \n",
       "\n",
       "   Num_of_Favorite  \n",
       "0           2535.0  \n",
       "1            132.0  \n",
       "2            128.0  \n",
       "3            311.0  \n",
       "4            111.0  "
      ]
     },
     "execution_count": 64,
     "metadata": {},
     "output_type": "execute_result"
    }
   ],
   "source": [
    "Table_Copy = Merge_Table_Copy.copy()\n",
    "Table_Copy.head()"
   ]
  },
  {
   "cell_type": "markdown",
   "id": "f8a62621",
   "metadata": {},
   "source": [
    "***As we can see in the above table, there is no modification that mentions the data is clean***"
   ]
  },
  {
   "cell_type": "markdown",
   "id": "808706d2",
   "metadata": {},
   "source": [
    "### Data storage"
   ]
  },
  {
   "cell_type": "code",
   "execution_count": 65,
   "id": "06d4323f",
   "metadata": {},
   "outputs": [],
   "source": [
    "Table_Copy.to_csv(\"twitter-archive-master.csv\")"
   ]
  },
  {
   "cell_type": "markdown",
   "id": "d7c36a07",
   "metadata": {},
   "source": [
    "### Analysis & Visualization"
   ]
  },
  {
   "cell_type": "code",
   "execution_count": 66,
   "id": "7cdba24f",
   "metadata": {},
   "outputs": [
    {
     "name": "stdout",
     "output_type": "stream",
     "text": [
      "Counter({1: 1532, 0: 543})\n"
     ]
    }
   ],
   "source": [
    "# Are most of the pictures of dogs?\n",
    "Frec_Dogs = Counter(Table_Copy[\"Is_It_Dog?\"])\n",
    "print(Frec_Dogs)"
   ]
  },
  {
   "cell_type": "code",
   "execution_count": 67,
   "id": "5bd5a066",
   "metadata": {},
   "outputs": [
    {
     "name": "stdout",
     "output_type": "stream",
     "text": [
      "Yes is 74 % and No is 26 %\n"
     ]
    }
   ],
   "source": [
    "Yes = round((1532 / (543+1532))*100)\n",
    "No = round((543 / (543+1532))*100)\n",
    "\n",
    "print(\"Yes is\",Yes,\"% and No is\",No,\"%\")"
   ]
  },
  {
   "cell_type": "markdown",
   "id": "30f3d30a",
   "metadata": {},
   "source": [
    "**Are most of the pictures of dogs?**\n",
    "\n",
    "Yes, The dogs represent 74% of the pictures."
   ]
  },
  {
   "cell_type": "code",
   "execution_count": 68,
   "id": "9e49a80e",
   "metadata": {},
   "outputs": [
    {
     "name": "stdout",
     "output_type": "stream",
     "text": [
      "Counter({'0': 1688, '3': 203, nan: 81, '1': 63, '4': 22, '5': 11, '2': 7})\n"
     ]
    }
   ],
   "source": [
    "# What type of dog is the most seen in pictures?\n",
    "Frec_Types = Counter(Table_Copy[\"Type_of_Object\"])\n",
    "print(Frec_Types)"
   ]
  },
  {
   "cell_type": "code",
   "execution_count": 69,
   "id": "ec61fed4",
   "metadata": {},
   "outputs": [
    {
     "name": "stdout",
     "output_type": "stream",
     "text": [
      "The dog is the most seen in pictures Percentage is 10 %\n"
     ]
    }
   ],
   "source": [
    "Most_Type = round((203 / (1688+203+63+22+11+7))*100)\n",
    "print(\"The dog is the most seen in pictures Percentage is\",Most_Type,\"%\")"
   ]
  },
  {
   "cell_type": "markdown",
   "id": "37ec039a",
   "metadata": {},
   "source": [
    "***We have already mentioned above that the type represented by “3” is the pupper and is the dog most seen in pictures***"
   ]
  },
  {
   "cell_type": "code",
   "execution_count": 70,
   "id": "7d5a5bea",
   "metadata": {},
   "outputs": [
    {
     "data": {
      "text/html": [
       "<div>\n",
       "<style scoped>\n",
       "    .dataframe tbody tr th:only-of-type {\n",
       "        vertical-align: middle;\n",
       "    }\n",
       "\n",
       "    .dataframe tbody tr th {\n",
       "        vertical-align: top;\n",
       "    }\n",
       "\n",
       "    .dataframe thead th {\n",
       "        text-align: right;\n",
       "    }\n",
       "</style>\n",
       "<table border=\"1\" class=\"dataframe\">\n",
       "  <thead>\n",
       "    <tr style=\"text-align: right;\">\n",
       "      <th></th>\n",
       "      <th>ID</th>\n",
       "      <th>Is_It_Dog?</th>\n",
       "      <th>Hour</th>\n",
       "      <th>Num_of_Retweet</th>\n",
       "      <th>Num_of_Favorite</th>\n",
       "    </tr>\n",
       "  </thead>\n",
       "  <tbody>\n",
       "    <tr>\n",
       "      <th>ID</th>\n",
       "      <td>1.000000</td>\n",
       "      <td>0.111326</td>\n",
       "      <td>0.137970</td>\n",
       "      <td>0.395218</td>\n",
       "      <td>0.638814</td>\n",
       "    </tr>\n",
       "    <tr>\n",
       "      <th>Is_It_Dog?</th>\n",
       "      <td>0.111326</td>\n",
       "      <td>1.000000</td>\n",
       "      <td>0.018218</td>\n",
       "      <td>0.008358</td>\n",
       "      <td>0.053137</td>\n",
       "    </tr>\n",
       "    <tr>\n",
       "      <th>Hour</th>\n",
       "      <td>0.137970</td>\n",
       "      <td>0.018218</td>\n",
       "      <td>1.000000</td>\n",
       "      <td>0.052074</td>\n",
       "      <td>0.056692</td>\n",
       "    </tr>\n",
       "    <tr>\n",
       "      <th>Num_of_Retweet</th>\n",
       "      <td>0.395218</td>\n",
       "      <td>0.008358</td>\n",
       "      <td>0.052074</td>\n",
       "      <td>1.000000</td>\n",
       "      <td>0.912947</td>\n",
       "    </tr>\n",
       "    <tr>\n",
       "      <th>Num_of_Favorite</th>\n",
       "      <td>0.638814</td>\n",
       "      <td>0.053137</td>\n",
       "      <td>0.056692</td>\n",
       "      <td>0.912947</td>\n",
       "      <td>1.000000</td>\n",
       "    </tr>\n",
       "  </tbody>\n",
       "</table>\n",
       "</div>"
      ],
      "text/plain": [
       "                       ID  Is_It_Dog?      Hour  Num_of_Retweet  \\\n",
       "ID               1.000000    0.111326  0.137970        0.395218   \n",
       "Is_It_Dog?       0.111326    1.000000  0.018218        0.008358   \n",
       "Hour             0.137970    0.018218  1.000000        0.052074   \n",
       "Num_of_Retweet   0.395218    0.008358  0.052074        1.000000   \n",
       "Num_of_Favorite  0.638814    0.053137  0.056692        0.912947   \n",
       "\n",
       "                 Num_of_Favorite  \n",
       "ID                      0.638814  \n",
       "Is_It_Dog?              0.053137  \n",
       "Hour                    0.056692  \n",
       "Num_of_Retweet          0.912947  \n",
       "Num_of_Favorite         1.000000  "
      ]
     },
     "execution_count": 70,
     "metadata": {},
     "output_type": "execute_result"
    }
   ],
   "source": [
    "# Is there a relationship between Num_of_Retweet and Num_of_Favorite?\n",
    "corr_matrix = Table_Copy.corr()\n",
    "corr_matrix"
   ]
  },
  {
   "cell_type": "markdown",
   "id": "898adde1",
   "metadata": {},
   "source": [
    "***We are interested in the link between two (2) variables (i.e. number of retweets and number of likes) as these are two continuous variables.***\n",
    "\n",
    "***The relationship between the two is positive and strong.***\n",
    "\n",
    "***Meaning, when number of likes rises the number of retweets rises as well an vice versa.***"
   ]
  },
  {
   "cell_type": "code",
   "execution_count": 71,
   "id": "5ceb9966",
   "metadata": {},
   "outputs": [
    {
     "data": {
      "image/png": "[encoded data removed]",
      "text/plain": [
       "<Figure size 360x360 with 1 Axes>"
      ]
     },
     "metadata": {},
     "output_type": "display_data"
    }
   ],
   "source": [
    "# What is the most time you post tweets?\n",
    "Table_Copy['Hour'].value_counts().plot(kind='pie',figsize=(5,5),title='Frequency of Hour');"
   ]
  },
  {
   "cell_type": "markdown",
   "id": "db6cfd44",
   "metadata": {},
   "source": [
    "***From the above mentioned graphic we can see that most tweets is midnight (12 - 2 )***"
   ]
  },
  {
   "cell_type": "code",
   "execution_count": null,
   "id": "661cf0cb",
   "metadata": {},
   "outputs": [],
   "source": []
  },
  {
   "cell_type": "code",
   "execution_count": null,
   "id": "740a6773",
   "metadata": {},
   "outputs": [],
   "source": []
  },
  {
   "cell_type": "code",
   "execution_count": null,
   "id": "82e4c3eb",
   "metadata": {},
   "outputs": [],
   "source": []
  },
  {
   "cell_type": "code",
   "execution_count": null,
   "id": "f0e2c469",
   "metadata": {},
   "outputs": [],
   "source": []
  }
 ],
 "metadata": {
  "kernelspec": {
   "display_name": "Python 3 (ipykernel)",
   "language": "python",
   "name": "python3"
  },
  "language_info": {
   "codemirror_mode": {
    "name": "ipython",
    "version": 3
   },
   "file_extension": ".py",
   "mimetype": "text/x-python",
   "name": "python",
   "nbconvert_exporter": "python",
   "pygments_lexer": "ipython3",
   "version": "3.9.12"
  }
 },
 "nbformat": 4,
 "nbformat_minor": 5
}
